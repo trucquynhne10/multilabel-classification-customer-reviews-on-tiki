{
  "cells": [
    {
      "cell_type": "code",
      "execution_count": null,
      "metadata": {
        "colab": {
          "base_uri": "https://localhost:8080/"
        },
        "id": "EDjoqgA18LNW",
        "outputId": "7cc47b6a-2d63-48dc-d703-a7a8460211d8"
      },
      "outputs": [
        {
          "name": "stdout",
          "output_type": "stream",
          "text": [
            "Mounted at /content/drive/\n"
          ]
        }
      ],
      "source": [
        "from google.colab import drive\n",
        "drive.mount('/content/drive/')"
      ]
    },
    {
      "cell_type": "code",
      "execution_count": null,
      "metadata": {
        "id": "pATXia--BmrR"
      },
      "outputs": [],
      "source": [
        "import re"
      ]
    },
    {
      "cell_type": "markdown",
      "metadata": {
        "id": "G1WWMYZfBSgv"
      },
      "source": [
        "##Xóa ký tự đặc biệt"
      ]
    },
    {
      "cell_type": "code",
      "execution_count": null,
      "metadata": {
        "colab": {
          "base_uri": "https://localhost:8080/"
        },
        "id": "jqJfpO019MpC",
        "outputId": "9d678e37-16be-496e-a1a2-81a701c17085"
      },
      "outputs": [
        {
          "name": "stdout",
          "output_type": "stream",
          "text": [
            "  đâyyyyyyy là đâu        taaaa           00ab abdd\n"
          ]
        }
      ],
      "source": [
        "def remove_special_characters(data):\n",
        "    # Sử dụng biểu thức chính quy để chỉ lấy các ký tự chữ cái và số\n",
        "    clean_data = re.sub(r'[^\\w\\sÀ-ÿ]', ' ', data)\n",
        "    return clean_data"
      ]
    },
    {
      "cell_type": "markdown",
      "metadata": {
        "id": "Hd0I12T3RWe5"
      },
      "source": [
        "Chuẩn hóa Unicode tiếng Việt"
      ]
    },
    {
      "cell_type": "code",
      "execution_count": null,
      "metadata": {
        "id": "fZjahn5bRT7_"
      },
      "outputs": [],
      "source": [
        "uniChars = \"àáảãạâầấẩẫậăằắẳẵặèéẻẽẹêềếểễệđìíỉĩịòóỏõọôồốổỗộơờớởỡợùúủũụưừứửữựỳýỷỹỵÀÁẢÃẠÂẦẤẨẪẬĂẰẮẲẴẶÈÉẺẼẸÊỀẾỂỄỆĐÌÍỈĨỊÒÓỎÕỌÔỒỐỔỖỘƠỜỚỞỠỢÙÚỦŨỤƯỪỨỬỮỰỲÝỶỸỴÂĂĐÔƠƯ\"\n",
        "unsignChars = \"aaaaaaaaaaaaaaaaaeeeeeeeeeeediiiiiooooooooooooooooouuuuuuuuuuuyyyyyAAAAAAAAAAAAAAAAAEEEEEEEEEEEDIIIOOOOOOOOOOOOOOOOOOOUUUUUUUUUUUYYYYYAADOOU\"\n",
        "\n",
        "\n",
        "# tạo ra một từ điển (dic) để ánh xạ các ký tự tiếng Việt từ bảng mã Latin-1 (1252) sang UTF-8.\n",
        "def loaddicchar():\n",
        "  dic = {}\n",
        "  char1252 = 'à|á|ả|ã|ạ|ầ|ấ|ẩ|ẫ|ậ|ằ|ắ|ẳ|ẵ|ặ|è|é|ẻ|ẽ|ẹ|ề|ế|ể|ễ|ệ|ì|í|ỉ|ĩ|ị|ò|ó|ỏ|õ|ọ|ồ|ố|ổ|ỗ|ộ|ờ|ớ|ở|ỡ|ợ|ù|ú|ủ|ũ|ụ|ừ|ứ|ử|ữ|ự|ỳ|ý|ỷ|ỹ|ỵ|À|Á|Ả|Ã|Ạ|Ầ|Ấ|Ẩ|Ẫ|Ậ|Ằ|Ắ|Ẳ|Ẵ|Ặ|È|É|Ẻ|Ẽ|Ẹ|Ề|Ế|Ể|Ễ|Ệ|Ì|Í|Ỉ|Ĩ|Ị|Ò|Ó|Ỏ|Õ|Ọ|Ồ|Ố|Ổ|Ỗ|Ộ|Ờ|Ớ|Ở|Ỡ|Ợ|Ù|Ú|Ủ|Ũ|Ụ|Ừ|Ứ|Ử|Ữ|Ự|Ỳ|Ý|Ỷ|Ỹ|Ỵ'.split('|')\n",
        "  charutf8 = \"à|á|ả|ã|ạ|ầ|ấ|ẩ|ẫ|ậ|ằ|ắ|ẳ|ẵ|ặ|è|é|ẻ|ẽ|ẹ|ề|ế|ể|ễ|ệ|ì|í|ỉ|ĩ|ị|ò|ó|ỏ|õ|ọ|ồ|ố|ổ|ỗ|ộ|ờ|ớ|ở|ỡ|ợ|ù|ú|ủ|ũ|ụ|ừ|ứ|ử|ữ|ự|ỳ|ý|ỷ|ỹ|ỵ|À|Á|Ả|Ã|Ạ|Ầ|Ấ|Ẩ|Ẫ|Ậ|Ằ|Ắ|Ẳ|Ẵ|Ặ|È|É|Ẻ|Ẽ|Ẹ|Ề|Ế|Ể|Ễ|Ệ|Ì|Í|Ỉ|Ĩ|Ị|Ò|Ó|Ỏ|Õ|Ọ|Ồ|Ố|Ổ|Ỗ|Ộ|Ờ|Ớ|Ở|Ỡ|Ợ|Ù|Ú|Ủ|Ũ|Ụ|Ừ|Ứ|Ử|Ữ|Ự|Ỳ|Ý|Ỷ|Ỹ|Ỵ\".split('|')\n",
        "  for i in range(len(char1252)):\n",
        "      dic[char1252[i]] = charutf8[i]\n",
        "  return dic\n",
        "\n",
        "dicchar = loaddicchar()\n",
        "\n",
        "# Đưa dữ liệu qua hàm này để chuẩn hóa lại\n",
        "def convert_unicode(data):\n",
        "    return re.sub(r'à|á|ả|ã|ạ|ầ|ấ|ẩ|ẫ|ậ|ằ|ắ|ẳ|ẵ|ặ|è|é|ẻ|ẽ|ẹ|ề|ế|ể|ễ|ệ|ì|í|ỉ|ĩ|ị|ò|ó|ỏ|õ|ọ|ồ|ố|ổ|ỗ|ộ|ờ|ớ|ở|ỡ|ợ|ù|ú|ủ|ũ|ụ|ừ|ứ|ử|ữ|ự|ỳ|ý|ỷ|ỹ|ỵ|À|Á|Ả|Ã|Ạ|Ầ|Ấ|Ẩ|Ẫ|Ậ|Ằ|Ắ|Ẳ|Ẵ|Ặ|È|É|Ẻ|Ẽ|Ẹ|Ề|Ế|Ể|Ễ|Ệ|Ì|Í|Ỉ|Ĩ|Ị|Ò|Ó|Ỏ|Õ|Ọ|Ồ|Ố|Ổ|Ỗ|Ộ|Ờ|Ớ|Ở|Ỡ|Ợ|Ù|Ú|Ủ|Ũ|Ụ|Ừ|Ứ|Ử|Ữ|Ự|Ỳ|Ý|Ỷ|Ỹ|Ỵ',\n",
        "        lambda x: dicchar[x.group()], data)"
      ]
    },
    {
      "cell_type": "markdown",
      "metadata": {
        "id": "fsMHmBPPHPME"
      },
      "source": [
        "Chuấn hóa kiểu gõ dấu"
      ]
    },
    {
      "cell_type": "code",
      "execution_count": null,
      "metadata": {
        "id": "h_qGwSt1HOMf"
      },
      "outputs": [],
      "source": [
        "bang_nguyen_am = [['a', 'à', 'á', 'ả', 'ã', 'ạ', 'a'],\n",
        "                  ['ă', 'ằ', 'ắ', 'ẳ', 'ẵ', 'ặ', 'aw'],\n",
        "                  ['â', 'ầ', 'ấ', 'ẩ', 'ẫ', 'ậ', 'aa'],\n",
        "                  ['e', 'è', 'é', 'ẻ', 'ẽ', 'ẹ', 'e'],\n",
        "                  ['ê', 'ề', 'ế', 'ể', 'ễ', 'ệ', 'ee'],\n",
        "                  ['i', 'ì', 'í', 'ỉ', 'ĩ', 'ị', 'i'],\n",
        "                  ['o', 'ò', 'ó', 'ỏ', 'õ', 'ọ', 'o'],\n",
        "                  ['ô', 'ồ', 'ố', 'ổ', 'ỗ', 'ộ', 'oo'],\n",
        "                  ['ơ', 'ờ', 'ớ', 'ở', 'ỡ', 'ợ', 'ow'],\n",
        "                  ['u', 'ù', 'ú', 'ủ', 'ũ', 'ụ', 'u'],\n",
        "                  ['ư', 'ừ', 'ứ', 'ử', 'ữ', 'ự', 'uw'],\n",
        "                  ['y', 'ỳ', 'ý', 'ỷ', 'ỹ', 'ỵ', 'y']]\n",
        "bang_ky_tu_dau = ['', 'f', 's', 'r', 'x', 'j']\n",
        "\n",
        "nguyen_am_to_ids = {}\n",
        "\n",
        "for i in range(len(bang_nguyen_am)):\n",
        "    for j in range(len(bang_nguyen_am[i]) - 1):\n",
        "        nguyen_am_to_ids[bang_nguyen_am[i][j]] = (i, j)\n",
        "\n",
        "def vn_word_to_telex_type(word):\n",
        "    dau_cau = 0\n",
        "    new_word = ''\n",
        "    for char in word:\n",
        "        # Nếu char có trong từ điển nguyen_am_to_ids, thì biến x sẽ nhận giá trị được ánh xạ từ char và biến y sẽ nhận giá trị thứ hai trong cặp giá trị tương ứng với char trong từ điển.\n",
        "        # Nếu char không tồn tại trong từ điển, thì get() sẽ trả về giá trị mặc định là (-1, -1).\n",
        "        x, y = nguyen_am_to_ids.get(char, (-1, -1))\n",
        "        if x == -1:\n",
        "            new_word += char\n",
        "            continue\n",
        "        if y != 0:\n",
        "            dau_cau = y\n",
        "        new_word += bang_nguyen_am[x][-1]\n",
        "    new_word += bang_ky_tu_dau[dau_cau]\n",
        "    return new_word\n",
        "\n",
        "def vn_sentence_to_telex_type(sentence):\n",
        "    \"\"\"\n",
        "    Chuyển câu tiếng việt có dấu về kiểu gõ telex.\n",
        "    :param sentence:\n",
        "    :return:\n",
        "    \"\"\"\n",
        "    words = sentence.split()\n",
        "    for index, word in enumerate(words):\n",
        "        words[index] = vn_word_to_telex_type(word)\n",
        "    return ' '.join(words)\n",
        "\n",
        "def chuan_hoa_dau_tu_tieng_viet(word):\n",
        "    if not is_valid_vietnam_word(word):\n",
        "        return word\n",
        "\n",
        "    chars = list(word)\n",
        "    dau_cau = 0\n",
        "    nguyen_am_index = []\n",
        "    qu_or_gi = False\n",
        "    for index, char in enumerate(chars):\n",
        "        x, y = nguyen_am_to_ids.get(char, (-1, -1))\n",
        "        if x == -1:\n",
        "            continue\n",
        "        elif x == 9:  # check qu\n",
        "            if index != 0 and chars[index - 1] == 'q':\n",
        "                chars[index] = 'u'\n",
        "                qu_or_gi = True\n",
        "        elif x == 5:  # check gi\n",
        "            if index != 0 and chars[index - 1] == 'g':\n",
        "                chars[index] = 'i'\n",
        "                qu_or_gi = True\n",
        "        if y != 0:\n",
        "            dau_cau = y\n",
        "            chars[index] = bang_nguyen_am[x][0]\n",
        "        if not qu_or_gi or index != 1:\n",
        "            nguyen_am_index.append(index)\n",
        "\n",
        "    if len(nguyen_am_index) < 2:\n",
        "        if qu_or_gi:\n",
        "            if len(chars) == 2:\n",
        "                x, y = nguyen_am_to_ids.get(chars[1])\n",
        "                chars[1] = bang_nguyen_am[x][dau_cau]\n",
        "            else:\n",
        "                x, y = nguyen_am_to_ids.get(chars[2], (-1, -1))\n",
        "                if x != -1:\n",
        "                    chars[2] = bang_nguyen_am[x][dau_cau]\n",
        "                else:\n",
        "                    chars[1] = bang_nguyen_am[5][dau_cau] if chars[1] == 'i' else bang_nguyen_am[9][dau_cau]\n",
        "            return ''.join(chars)\n",
        "        return word\n",
        "\n",
        "    for index in nguyen_am_index:\n",
        "        x, y = nguyen_am_to_ids[chars[index]]\n",
        "        if x == 4 or x == 8:  # ê, ơ\n",
        "            chars[index] = bang_nguyen_am[x][dau_cau]\n",
        "            # for index2 in nguyen_am_index:\n",
        "            #     if index2 != index:\n",
        "            #         x, y = nguyen_am_to_ids[chars[index]]\n",
        "            #         chars[index2] = bang_nguyen_am[x][0]\n",
        "            return ''.join(chars)\n",
        "\n",
        "    if len(nguyen_am_index) == 2:\n",
        "        if nguyen_am_index[-1] == len(chars) - 1:\n",
        "            x, y = nguyen_am_to_ids[chars[nguyen_am_index[0]]]\n",
        "            chars[nguyen_am_index[0]] = bang_nguyen_am[x][dau_cau]\n",
        "            # x, y = nguyen_am_to_ids[chars[nguyen_am_index[1]]]\n",
        "            # chars[nguyen_am_index[1]] = bang_nguyen_am[x][0]\n",
        "        else:\n",
        "            # x, y = nguyen_am_to_ids[chars[nguyen_am_index[0]]]\n",
        "            # chars[nguyen_am_index[0]] = bang_nguyen_am[x][0]\n",
        "            x, y = nguyen_am_to_ids[chars[nguyen_am_index[1]]]\n",
        "            chars[nguyen_am_index[1]] = bang_nguyen_am[x][dau_cau]\n",
        "    else:\n",
        "        # x, y = nguyen_am_to_ids[chars[nguyen_am_index[0]]]\n",
        "        # chars[nguyen_am_index[0]] = bang_nguyen_am[x][0]\n",
        "        x, y = nguyen_am_to_ids[chars[nguyen_am_index[1]]]\n",
        "        chars[nguyen_am_index[1]] = bang_nguyen_am[x][dau_cau]\n",
        "        # x, y = nguyen_am_to_ids[chars[nguyen_am_index[2]]]\n",
        "        # chars[nguyen_am_index[2]] = bang_nguyen_am[x][0]\n",
        "    return ''.join(chars)\n",
        "\n",
        "# kiểm tra xem một từ tiếng Việt có tuân theo quy tắc đặt cách nhau của các nguyên âm không\n",
        "def is_valid_vietnam_word(word):\n",
        "    chars = list(word)\n",
        "    nguyen_am_index = -1\n",
        "    for index, char in enumerate(chars):\n",
        "        x, y = nguyen_am_to_ids.get(char, (-1, -1))\n",
        "        if x != -1:\n",
        "            if nguyen_am_index == -1:\n",
        "                nguyen_am_index = index\n",
        "            else:\n",
        "                if index - nguyen_am_index != 1:\n",
        "                    return False\n",
        "                nguyen_am_index = index\n",
        "    return True\n",
        "\n",
        "def chuan_hoa_dau_cau_tieng_viet(sentence):\n",
        "    \"\"\"\n",
        "        Chuyển câu tiếng việt về chuẩn gõ dấu kiểu cũ.\n",
        "        :param sentence:\n",
        "        :return:\n",
        "        \"\"\"\n",
        "    sentence = sentence.lower()\n",
        "    words = sentence.split()\n",
        "    for index, word in enumerate(words):\n",
        "        words[index] = chuan_hoa_dau_tu_tieng_viet(word)\n",
        "    return ' '.join(words)\n",
        "\n"
      ]
    },
    {
      "cell_type": "markdown",
      "metadata": {
        "id": "umBO_TjN2BL7"
      },
      "source": [
        "Đưa về viết thường (lowercase)"
      ]
    },
    {
      "cell_type": "code",
      "execution_count": null,
      "metadata": {
        "id": "UVt5jMHQ2Dn7"
      },
      "outputs": [],
      "source": [
        "def lower_case(data):\n",
        "  return data.lower()"
      ]
    },
    {
      "cell_type": "markdown",
      "metadata": {
        "id": "K99qUV9f8jiH"
      },
      "source": [
        "Loại bỏ ký tự cố ý viết dài trong câu\n",
        "\n",
        "eg: đâyyyyyyy là đâu taaaa\n",
        "-> đây là đâu ta\n",
        "\n"
      ]
    },
    {
      "cell_type": "code",
      "execution_count": null,
      "metadata": {
        "id": "-nH1biG88n9g"
      },
      "outputs": [],
      "source": [
        "import re\n",
        "\n",
        "def remove_dub(sentence):\n",
        "    return re.sub(r'([A-Z])\\1+', lambda m: m.group(1), sentence, flags=re.IGNORECASE)\n"
      ]
    },
    {
      "cell_type": "markdown",
      "metadata": {
        "id": "gEnuZkbG953i"
      },
      "source": [
        "Loại bỏ emoji"
      ]
    },
    {
      "cell_type": "code",
      "execution_count": null,
      "metadata": {
        "id": "IudcTSsxIWHW"
      },
      "outputs": [],
      "source": [
        "!pip install spacymoji"
      ]
    },
    {
      "cell_type": "code",
      "execution_count": null,
      "metadata": {
        "id": "5kV3cNdgIbZo"
      },
      "outputs": [],
      "source": [
        "!python -m spacy download en_core_web_sm"
      ]
    },
    {
      "cell_type": "code",
      "execution_count": null,
      "metadata": {
        "colab": {
          "base_uri": "https://localhost:8080/"
        },
        "id": "bMUhibH_H3aN",
        "outputId": "b9b1a900-4d1c-4af4-f4a8-e9bf905d9624"
      },
      "outputs": [
        {
          "data": {
            "text/plain": [
              "<spacymoji.Emoji at 0x7d46124df9d0>"
            ]
          },
          "execution_count": 12,
          "metadata": {},
          "output_type": "execute_result"
        }
      ],
      "source": [
        "import spacy\n",
        "import en_core_web_sm\n",
        "from spacymoji import Emoji\n",
        "\n",
        "nlp = en_core_web_sm.load()\n",
        "emoji = Emoji(nlp)\n",
        "nlp.add_pipe('emoji', first=True)"
      ]
    },
    {
      "cell_type": "code",
      "execution_count": null,
      "metadata": {
        "colab": {
          "base_uri": "https://localhost:8080/"
        },
        "id": "PDWYM-mLKI3t",
        "outputId": "43053a29-fba2-4f19-9d04-1a8b523547b0"
      },
      "outputs": [
        {
          "name": "stdout",
          "output_type": "stream",
          "text": [
            "This is String       this is string  ️string  :))))\n"
          ]
        }
      ],
      "source": [
        "def remove_emoji(text):\n",
        "  doc = nlp(text)\n",
        "  text_with_spaces = ''.join(token.text_with_ws if not token._.is_emoji else ' ' for token in doc)\n",
        "  return text_with_spaces"
      ]
    },
    {
      "cell_type": "markdown",
      "metadata": {
        "id": "HtKxsvoh2xha"
      },
      "source": [
        "Tách từ tiếng Việt"
      ]
    },
    {
      "cell_type": "code",
      "execution_count": null,
      "metadata": {
        "id": "a0a38New1ET2"
      },
      "outputs": [],
      "source": [
        "pip install pyvi\n"
      ]
    },
    {
      "cell_type": "code",
      "execution_count": null,
      "metadata": {
        "colab": {
          "base_uri": "https://localhost:8080/",
          "height": 36
        },
        "id": "WgpB3edG1CxS",
        "outputId": "58c4a340-a751-4e1c-fe04-2536b7d03863"
      },
      "outputs": [
        {
          "data": {
            "application/vnd.google.colaboratory.intrinsic+json": {
              "type": "string"
            },
            "text/plain": [
              "'Chàng trai 9X Quảng_Trị khởi_nghiệp từ nấm_sò'"
            ]
          },
          "execution_count": 15,
          "metadata": {},
          "output_type": "execute_result"
        }
      ],
      "source": [
        "from pyvi import ViTokenizer, ViPosTagger\n",
        "\n",
        "sentence = 'Chàng trai 9X Quảng Trị khởi nghiệp từ nấm sò'\n",
        "\n",
        "ViTokenizer.tokenize(sentence)"
      ]
    },
    {
      "cell_type": "markdown",
      "metadata": {
        "id": "DpKvoUywjzlk"
      },
      "source": [
        "Remove Teencode"
      ]
    },
    {
      "cell_type": "code",
      "execution_count": null,
      "metadata": {
        "id": "wrQz8EvKKCYO"
      },
      "outputs": [],
      "source": [
        "!pip install underthesea"
      ]
    },
    {
      "cell_type": "code",
      "execution_count": null,
      "metadata": {
        "id": "6DIaWkbhPNJQ"
      },
      "outputs": [],
      "source": [
        "from underthesea import word_tokenize"
      ]
    },
    {
      "cell_type": "code",
      "execution_count": null,
      "metadata": {
        "id": "OkQOqN2EAqoH"
      },
      "outputs": [],
      "source": [
        "# lấy dữ liệu cho teencode\n",
        "import pandas as pd\n",
        "teencode_df = pd.read_csv('/content/drive/MyDrive/1 nùi Project/Machine learning/Gắn tag cho bình luận/Data/teencode.txt',names=['teencode','map'],sep='\\t',)\n",
        "teencode_list = teencode_df['teencode'].to_list()\n",
        "map_list = teencode_df['map'].to_list()"
      ]
    },
    {
      "cell_type": "code",
      "execution_count": null,
      "metadata": {
        "id": "eQJ00dR7L0zY"
      },
      "outputs": [],
      "source": [
        "def searchTeencode(word):\n",
        "  try:\n",
        "    global teencode_count\n",
        "    index = teencode_list.index(word)\n",
        "    map_word = map_list[index]\n",
        "    teencode_count += 1\n",
        "    return map_word\n",
        "  except:\n",
        "    pass"
      ]
    },
    {
      "cell_type": "code",
      "execution_count": null,
      "metadata": {
        "id": "h4p2qI4QPG8z"
      },
      "outputs": [],
      "source": [
        "import re\n",
        "\n",
        "stopword_count = 0\n",
        "teencode_count =0\n",
        "def Teencode(sentence):\n",
        "    # Xứ lý các từ ok\n",
        "    sentence = re.sub(r'\\bok\\w*\\b', 'ok', sentence)\n",
        "    # Tokenize\n",
        "    List_tokens = word_tokenize(sentence,format='text')\n",
        "    List_tokens = word_tokenize(sentence)\n",
        "\n",
        "    # Teencode\n",
        "    for tokens_idx, text_tokens in enumerate(List_tokens):\n",
        "        deteencoded = searchTeencode(text_tokens)\n",
        "        if deteencoded is not None:\n",
        "            List_tokens[tokens_idx] = deteencoded\n",
        "\n",
        "    deteencode_sentence = \" \".join(List_tokens)\n",
        "    return deteencode_sentence"
      ]
    },
    {
      "cell_type": "code",
      "execution_count": null,
      "metadata": {
        "id": "__OXTdgDPSL8"
      },
      "outputs": [],
      "source": [
        "document = 'màng okie lọc và vc chống nắng mình khá tin tưởng Kết cấu mk tán trên da sau khi rửa mặt hoặc sau tẩy trang rửa mặt aply lại kcn không bị vón. dùng có serum cug k vón. nhưng dính vào tóc, mắt mày thì sẽ trắng và vón nhìn bẩn lắm. kem chống nắng cũng hơi khó tán đều nhìn lộ rõ lỗ chân lông bám mảng trắng. nâng tone ít lắm có xuống tone nhẹ.có độ bóng ít. sau vài tiếng bôi da đổ dầu nhiều k kiềm dầu, mùi thơm mh k thích lắm. có cay mắt nhẹ.kcn này k bị trôi tuột khi ra mồ hôi. so với  kem chống nắng của hàn thì mh thích finish kcn của hàn hơn. chắc sẽ k mua lại.hoặc miễn cưỡng mua màng lọc xịn'"
      ]
    },
    {
      "cell_type": "code",
      "execution_count": null,
      "metadata": {
        "colab": {
          "base_uri": "https://localhost:8080/",
          "height": 105
        },
        "id": "nSJqt_ypRB4_",
        "outputId": "157321bb-26e9-45ce-8705-3c95326e7d32"
      },
      "outputs": [
        {
          "data": {
            "application/vnd.google.colaboratory.intrinsic+json": {
              "type": "string"
            },
            "text/plain": [
              "'màng ok lọc và vận chuyển chống nắng mình khá tin tưởng Kết cấu mk tán trên da sau khi rửa mặt hoặc sau tẩy trang rửa mặt apply lại kem chống nắng không bị vón . dùng có serum cũng không vón . nhưng dính vào tóc , mắt mày thì sẽ trắng và vón nhìn bẩn lắm . kem chống nắng cũng hơi khó tán đều nhìn lộ rõ lỗ chân lông bám mảng trắng . nâng tone ít lắm có xuống tone nhẹ . có độ bóng ít . sau vài tiếng bôi da đổ dầu nhiều không kiềm dầu , mùi thơm mình không thích lắm . có cay mắt nhẹ . kem chống nắng này không bị trôi tuột khi ra mồ hôi . so với kem chống nắng của hàn thì mình thích finish kem chống nắng của hàn hơn . chắc sẽ không mua lại . hoặc miễn cưỡng mua màng lọc xịn'"
            ]
          },
          "execution_count": 22,
          "metadata": {},
          "output_type": "execute_result"
        }
      ],
      "source": [
        "Teencode(document)"
      ]
    },
    {
      "cell_type": "markdown",
      "metadata": {
        "id": "mV_GxKik5jPW"
      },
      "source": [
        "Tổng hợp"
      ]
    },
    {
      "cell_type": "code",
      "execution_count": null,
      "metadata": {
        "id": "NlV-xgkA0NwA"
      },
      "outputs": [],
      "source": [
        "def text_preprocess(document):\n",
        "    # xóa ký tự đặc biệt\n",
        "    document = remove_special_characters(document)\n",
        "    # Xóa emoji\n",
        "    document = remove_emoji(document)\n",
        "    # đưa về lower\n",
        "    document = document.lower()\n",
        "    # Xóa ký tự cố ý viết dài\n",
        "    document = remove_dub(document)\n",
        "    # chuẩn hóa unicode\n",
        "    document = convert_unicode(document)\n",
        "    # chuẩn hóa cách gõ dấu tiếng Việt\n",
        "    document = chuan_hoa_dau_cau_tieng_viet(document)\n",
        "    # chuẩn hóa teencode\n",
        "    document = Teencode(document)\n",
        "    # tách từ\n",
        "    document = ViTokenizer.tokenize(document)\n",
        "    # xóa các ký tự không cần thiết\n",
        "    document = re.sub(r'[^\\s\\wáàảãạăắằẳẵặâấầẩẫậéèẻẽẹêếềểễệóòỏõọôốồổỗộơớờởỡợíìỉĩịúùủũụưứừửữựýỳỷỹỵđ_]',' ',document)\n",
        "    # xóa khoảng trắng thừa\n",
        "    document = re.sub(r'\\s+', ' ', document).strip()\n",
        "    return document"
      ]
    },
    {
      "cell_type": "code",
      "execution_count": null,
      "metadata": {
        "colab": {
          "base_uri": "https://localhost:8080/"
        },
        "id": "49Z35deg9B8J",
        "outputId": "8418dec4-4847-49de-ab89-05f7c536f796"
      },
      "outputs": [
        {
          "name": "stdout",
          "output_type": "stream",
          "text": [
            "màng lọc và chỉ_số chống nắng mình không tin_tưởng kết_cấu mh tán trên da sau khi rửa mặt hoặc sau tẩy_trang rửa mặt apply lại kem chống nắng không bị vón kem chống nắng dùng có serum cũng k vón nhưng dính vào tóc mắt mày thì sẽ trắng và vón nhìn bẩn lắm kem chống nắng cũng hơi khó tán đều nhìn lộ rõ lỗ chân_lông bám mảng trắng nâng tone ít lắm có xuống tone nhẹ có độ bóng ít sau vài tiếng bôi da đổ dầu nhiều không kiềm dầu mùi thơm mình không thích lắm có cay mắt nhẹ kem chống nắng này không bị trôi tuột khi ra mồ_hôi so với kem chống nắng của hàn thì mình thích finish kem chống nắng của hàn hơn chắc sẽ không mua lại hoặc miễn_cưỡng mua màng lọc xịn\n"
          ]
        }
      ],
      "source": [
        "document = '\"màng lọc và chỉ số chống nắng mình k tin tưởng Kết cấu：mh tán trên da sau khi rửa mặt hoặc sau tẩy trang rửa mặt aply lại kcn không bị vón. kcn dùng có serum cug k vón. nhưng dính vào tóc, mắt mày thì sẽ trắng và vón nhìn bẩn lắm. kcn cũng hơi khó tán đều nhìn lộ rõ lỗ chân lông bám mảng trắng. nâng tone ít lắm có xuống tone nhẹ.có độ bóng ít. sau vài tiếng bôi da đổ dầu nhiều k kiềm dầu, mùi thơm mh k thích lắm. có cay mắt nhẹ.kcn này k bị trôi tuột khi ra mồ hôi. so với  kem chống nắng của hàn thì mh thích finish kcn của hàn hơn. chắc sẽ k mua lại.hoặc miễn cưỡng mua màng lọc xịn\"'\n",
        "document = text_preprocess(document)\n",
        "print(document)"
      ]
    },
    {
      "cell_type": "code",
      "execution_count": null,
      "metadata": {
        "id": "EThm1N_6aVpI"
      },
      "outputs": [],
      "source": [
        "# %cd \"/content/drive/MyDrive/1 nùi Project/Machine learning/Gắn tag cho bình luận/Code/\"\n",
        "# from transformer_model import TransformerModel\n",
        "# transformer = TransformerModel(source_vectorization='source_vectorization_layer.pkl',\n",
        "#     target_vectorization='target_vectorization_layer.pkl',\n",
        "#     model_path='restore_diacritic.keras')\n",
        "# print(transformer.predict('Da nhạn dc hang. nhỏ nhu ngon tay thôi ạ. nhung mua dung thử . dung dc mấy hom thấy da dc lên tông va cung khô thoáng hơn. se ung hộ shop kan sau ạ'))"
      ]
    },
    {
      "cell_type": "code",
      "execution_count": null,
      "metadata": {
        "id": "aQDjJWFyv6RV"
      },
      "outputs": [],
      "source": [
        "import pandas as pd"
      ]
    },
    {
      "cell_type": "code",
      "execution_count": null,
      "metadata": {
        "id": "EZU_m9dmv90S"
      },
      "outputs": [],
      "source": [
        "data = pd.read_csv(r'/content/drive/MyDrive/1 nùi Project/Machine learning/Gắn tag cho bình luận/Data/them.csv')"
      ]
    },
    {
      "cell_type": "code",
      "execution_count": null,
      "metadata": {
        "colab": {
          "base_uri": "https://localhost:8080/",
          "height": 666
        },
        "id": "ab83idGu2a4s",
        "outputId": "837f7e3e-0bc9-4b9a-ed73-41c4fd87397e"
      },
      "outputs": [
        {
          "data": {
            "text/html": [
              "\n",
              "  <div id=\"df-18ed679c-054e-455d-866a-19915c41f0da\" class=\"colab-df-container\">\n",
              "    <div>\n",
              "<style scoped>\n",
              "    .dataframe tbody tr th:only-of-type {\n",
              "        vertical-align: middle;\n",
              "    }\n",
              "\n",
              "    .dataframe tbody tr th {\n",
              "        vertical-align: top;\n",
              "    }\n",
              "\n",
              "    .dataframe thead th {\n",
              "        text-align: right;\n",
              "    }\n",
              "</style>\n",
              "<table border=\"1\" class=\"dataframe\">\n",
              "  <thead>\n",
              "    <tr style=\"text-align: right;\">\n",
              "      <th></th>\n",
              "      <th>cmt</th>\n",
              "      <th>Spell_corrected</th>\n",
              "      <th>tên</th>\n",
              "      <th>vận chuyển</th>\n",
              "      <th>giá</th>\n",
              "      <th>đóng gói</th>\n",
              "      <th>dịch vụ</th>\n",
              "      <th>mùi hương</th>\n",
              "      <th>kết cấu</th>\n",
              "      <th>độ bền</th>\n",
              "      <th>Màu sắc</th>\n",
              "    </tr>\n",
              "  </thead>\n",
              "  <tbody>\n",
              "    <tr>\n",
              "      <th>0</th>\n",
              "      <td>đây là lần đầu tiên mình mua son và cũng liều ...</td>\n",
              "      <td>đây là lần đầu tiên mình mua son và cũng liều ...</td>\n",
              "      <td>Son Kem Siêu Lì, Mịn Môi 3CE Cloud Lip Tint</td>\n",
              "      <td>0.0</td>\n",
              "      <td>0.0</td>\n",
              "      <td>0.0</td>\n",
              "      <td>0.0</td>\n",
              "      <td>0.0</td>\n",
              "      <td>0.0</td>\n",
              "      <td>1.0</td>\n",
              "      <td>1.0</td>\n",
              "    </tr>\n",
              "    <tr>\n",
              "      <th>1</th>\n",
              "      <td>Son kem khá lì, nếu trôi gần hết vẫn để lại ba...</td>\n",
              "      <td>Son kem khá lì, nếu trôi gần hết vẫn để lại ba...</td>\n",
              "      <td>Son Kem Lì Mỏng Nhẹ Mềm Môi Belips Sexy Lipsti...</td>\n",
              "      <td>0.0</td>\n",
              "      <td>0.0</td>\n",
              "      <td>0.0</td>\n",
              "      <td>0.0</td>\n",
              "      <td>0.0</td>\n",
              "      <td>1.0</td>\n",
              "      <td>1.0</td>\n",
              "      <td>1.0</td>\n",
              "    </tr>\n",
              "    <tr>\n",
              "      <th>2</th>\n",
              "      <td>Màu lên đẹp và sắc nét, chất mỏng mướt k bị kh...</td>\n",
              "      <td>Màu lên đẹp và sắc nét, chất mỏng mướt k bị kh...</td>\n",
              "      <td>Son Kem Lì Mỏng Nhẹ Mềm Môi Belips Sexy Lipsti...</td>\n",
              "      <td>0.0</td>\n",
              "      <td>0.0</td>\n",
              "      <td>0.0</td>\n",
              "      <td>0.0</td>\n",
              "      <td>0.0</td>\n",
              "      <td>1.0</td>\n",
              "      <td>1.0</td>\n",
              "      <td>1.0</td>\n",
              "    </tr>\n",
              "    <tr>\n",
              "      <th>3</th>\n",
              "      <td>Đề cử nha. Mua đợt sale nên có 70k thui, mình ...</td>\n",
              "      <td>Đề cử nha. Mua đợt sale nên có 70k thui, mình ...</td>\n",
              "      <td>Kem Che Khuyết Điểm The Saem Cover PerfectionT...</td>\n",
              "      <td>1.0</td>\n",
              "      <td>1.0</td>\n",
              "      <td>0.0</td>\n",
              "      <td>1.0</td>\n",
              "      <td>0.0</td>\n",
              "      <td>0.0</td>\n",
              "      <td>1.0</td>\n",
              "      <td>1.0</td>\n",
              "    </tr>\n",
              "    <tr>\n",
              "      <th>4</th>\n",
              "      <td>màu đẹp, rất là lì mùi không thơm lắm, đóng gó...</td>\n",
              "      <td>màu đẹp, rất là lì mùi không thơm lắm, đóng gó...</td>\n",
              "      <td>Son Bbia Glow Lip Tint 3.2g ( 5 Màu )</td>\n",
              "      <td>0.0</td>\n",
              "      <td>0.0</td>\n",
              "      <td>1.0</td>\n",
              "      <td>0.0</td>\n",
              "      <td>1.0</td>\n",
              "      <td>0.0</td>\n",
              "      <td>1.0</td>\n",
              "      <td>1.0</td>\n",
              "    </tr>\n",
              "    <tr>\n",
              "      <th>...</th>\n",
              "      <td>...</td>\n",
              "      <td>...</td>\n",
              "      <td>...</td>\n",
              "      <td>...</td>\n",
              "      <td>...</td>\n",
              "      <td>...</td>\n",
              "      <td>...</td>\n",
              "      <td>...</td>\n",
              "      <td>...</td>\n",
              "      <td>...</td>\n",
              "      <td>...</td>\n",
              "    </tr>\n",
              "    <tr>\n",
              "      <th>311</th>\n",
              "      <td>Phải nói là thích ko còn gì để nói kkk. Lớp ke...</td>\n",
              "      <td>Phải nói là thích ko còn gì để nói kkk. Lớp ke...</td>\n",
              "      <td>Kem chống nắng kiềm dầu &amp; ngừa mụn Eucerin Sun...</td>\n",
              "      <td>0.0</td>\n",
              "      <td>0.0</td>\n",
              "      <td>0.0</td>\n",
              "      <td>0.0</td>\n",
              "      <td>0.0</td>\n",
              "      <td>1.0</td>\n",
              "      <td>1.0</td>\n",
              "      <td>0.0</td>\n",
              "    </tr>\n",
              "    <tr>\n",
              "      <th>312</th>\n",
              "      <td>Đã dùng 1 thời gian, sản phẩm dưỡng ẩm cho da ...</td>\n",
              "      <td>Đã dùng 1 thời gian, sản phẩm dưỡng ẩm cho da ...</td>\n",
              "      <td>Gel Lô Hội Dưỡng Ẩm Đa Năng &amp; Làm Mềm Da Từ Nh...</td>\n",
              "      <td>1.0</td>\n",
              "      <td>0.0</td>\n",
              "      <td>1.0</td>\n",
              "      <td>1.0</td>\n",
              "      <td>1.0</td>\n",
              "      <td>1.0</td>\n",
              "      <td>1.0</td>\n",
              "      <td>0.0</td>\n",
              "    </tr>\n",
              "    <tr>\n",
              "      <th>313</th>\n",
              "      <td>Chai nhỏ nên dùng nhanh hết, thấy mụn giảm sưn...</td>\n",
              "      <td>Chai nhỏ nên dùng nhanh hết, thấy mụn giảm sưn...</td>\n",
              "      <td>Serum Ngừa Mụn Dưỡng Trắng Da Oriss Cao Cấp</td>\n",
              "      <td>0.0</td>\n",
              "      <td>0.0</td>\n",
              "      <td>0.0</td>\n",
              "      <td>0.0</td>\n",
              "      <td>1.0</td>\n",
              "      <td>0.0</td>\n",
              "      <td>0.0</td>\n",
              "      <td>0.0</td>\n",
              "    </tr>\n",
              "    <tr>\n",
              "      <th>314</th>\n",
              "      <td>Sản phẩm mùi thơm nhẹ, thoa lên mẶt thấy nhanh...</td>\n",
              "      <td>Sản phẩm mùi thơm nhẹ, thoa lên mẶt thấy nhanh...</td>\n",
              "      <td>SERUM NGỪA MỤN THÂM - MỜ SẸO 25ML - MOC</td>\n",
              "      <td>0.0</td>\n",
              "      <td>0.0</td>\n",
              "      <td>0.0</td>\n",
              "      <td>0.0</td>\n",
              "      <td>1.0</td>\n",
              "      <td>1.0</td>\n",
              "      <td>1.0</td>\n",
              "      <td>0.0</td>\n",
              "    </tr>\n",
              "    <tr>\n",
              "      <th>315</th>\n",
              "      <td>Dưỡng ẩm tốt, ngăn lão hóa và sáng da thì mình...</td>\n",
              "      <td>Dưỡng ẩm tốt, ngăn lão hóa và sáng da thì mình...</td>\n",
              "      <td>Kem Dưỡng Ngăn Lão Hóa, Sáng Da Vichy Collagen...</td>\n",
              "      <td>0.0</td>\n",
              "      <td>0.0</td>\n",
              "      <td>0.0</td>\n",
              "      <td>0.0</td>\n",
              "      <td>0.0</td>\n",
              "      <td>0.0</td>\n",
              "      <td>1.0</td>\n",
              "      <td>0.0</td>\n",
              "    </tr>\n",
              "  </tbody>\n",
              "</table>\n",
              "<p>316 rows × 11 columns</p>\n",
              "</div>\n",
              "    <div class=\"colab-df-buttons\">\n",
              "\n",
              "  <div class=\"colab-df-container\">\n",
              "    <button class=\"colab-df-convert\" onclick=\"convertToInteractive('df-18ed679c-054e-455d-866a-19915c41f0da')\"\n",
              "            title=\"Convert this dataframe to an interactive table.\"\n",
              "            style=\"display:none;\">\n",
              "\n",
              "  <svg xmlns=\"http://www.w3.org/2000/svg\" height=\"24px\" viewBox=\"0 -960 960 960\">\n",
              "    <path d=\"M120-120v-720h720v720H120Zm60-500h600v-160H180v160Zm220 220h160v-160H400v160Zm0 220h160v-160H400v160ZM180-400h160v-160H180v160Zm440 0h160v-160H620v160ZM180-180h160v-160H180v160Zm440 0h160v-160H620v160Z\"/>\n",
              "  </svg>\n",
              "    </button>\n",
              "\n",
              "  <style>\n",
              "    .colab-df-container {\n",
              "      display:flex;\n",
              "      gap: 12px;\n",
              "    }\n",
              "\n",
              "    .colab-df-convert {\n",
              "      background-color: #E8F0FE;\n",
              "      border: none;\n",
              "      border-radius: 50%;\n",
              "      cursor: pointer;\n",
              "      display: none;\n",
              "      fill: #1967D2;\n",
              "      height: 32px;\n",
              "      padding: 0 0 0 0;\n",
              "      width: 32px;\n",
              "    }\n",
              "\n",
              "    .colab-df-convert:hover {\n",
              "      background-color: #E2EBFA;\n",
              "      box-shadow: 0px 1px 2px rgba(60, 64, 67, 0.3), 0px 1px 3px 1px rgba(60, 64, 67, 0.15);\n",
              "      fill: #174EA6;\n",
              "    }\n",
              "\n",
              "    .colab-df-buttons div {\n",
              "      margin-bottom: 4px;\n",
              "    }\n",
              "\n",
              "    [theme=dark] .colab-df-convert {\n",
              "      background-color: #3B4455;\n",
              "      fill: #D2E3FC;\n",
              "    }\n",
              "\n",
              "    [theme=dark] .colab-df-convert:hover {\n",
              "      background-color: #434B5C;\n",
              "      box-shadow: 0px 1px 3px 1px rgba(0, 0, 0, 0.15);\n",
              "      filter: drop-shadow(0px 1px 2px rgba(0, 0, 0, 0.3));\n",
              "      fill: #FFFFFF;\n",
              "    }\n",
              "  </style>\n",
              "\n",
              "    <script>\n",
              "      const buttonEl =\n",
              "        document.querySelector('#df-18ed679c-054e-455d-866a-19915c41f0da button.colab-df-convert');\n",
              "      buttonEl.style.display =\n",
              "        google.colab.kernel.accessAllowed ? 'block' : 'none';\n",
              "\n",
              "      async function convertToInteractive(key) {\n",
              "        const element = document.querySelector('#df-18ed679c-054e-455d-866a-19915c41f0da');\n",
              "        const dataTable =\n",
              "          await google.colab.kernel.invokeFunction('convertToInteractive',\n",
              "                                                    [key], {});\n",
              "        if (!dataTable) return;\n",
              "\n",
              "        const docLinkHtml = 'Like what you see? Visit the ' +\n",
              "          '<a target=\"_blank\" href=https://colab.research.google.com/notebooks/data_table.ipynb>data table notebook</a>'\n",
              "          + ' to learn more about interactive tables.';\n",
              "        element.innerHTML = '';\n",
              "        dataTable['output_type'] = 'display_data';\n",
              "        await google.colab.output.renderOutput(dataTable, element);\n",
              "        const docLink = document.createElement('div');\n",
              "        docLink.innerHTML = docLinkHtml;\n",
              "        element.appendChild(docLink);\n",
              "      }\n",
              "    </script>\n",
              "  </div>\n",
              "\n",
              "\n",
              "<div id=\"df-c9d0b0a4-30b9-40bd-b961-d6702c8845b1\">\n",
              "  <button class=\"colab-df-quickchart\" onclick=\"quickchart('df-c9d0b0a4-30b9-40bd-b961-d6702c8845b1')\"\n",
              "            title=\"Suggest charts\"\n",
              "            style=\"display:none;\">\n",
              "\n",
              "<svg xmlns=\"http://www.w3.org/2000/svg\" height=\"24px\"viewBox=\"0 0 24 24\"\n",
              "     width=\"24px\">\n",
              "    <g>\n",
              "        <path d=\"M19 3H5c-1.1 0-2 .9-2 2v14c0 1.1.9 2 2 2h14c1.1 0 2-.9 2-2V5c0-1.1-.9-2-2-2zM9 17H7v-7h2v7zm4 0h-2V7h2v10zm4 0h-2v-4h2v4z\"/>\n",
              "    </g>\n",
              "</svg>\n",
              "  </button>\n",
              "\n",
              "<style>\n",
              "  .colab-df-quickchart {\n",
              "      --bg-color: #E8F0FE;\n",
              "      --fill-color: #1967D2;\n",
              "      --hover-bg-color: #E2EBFA;\n",
              "      --hover-fill-color: #174EA6;\n",
              "      --disabled-fill-color: #AAA;\n",
              "      --disabled-bg-color: #DDD;\n",
              "  }\n",
              "\n",
              "  [theme=dark] .colab-df-quickchart {\n",
              "      --bg-color: #3B4455;\n",
              "      --fill-color: #D2E3FC;\n",
              "      --hover-bg-color: #434B5C;\n",
              "      --hover-fill-color: #FFFFFF;\n",
              "      --disabled-bg-color: #3B4455;\n",
              "      --disabled-fill-color: #666;\n",
              "  }\n",
              "\n",
              "  .colab-df-quickchart {\n",
              "    background-color: var(--bg-color);\n",
              "    border: none;\n",
              "    border-radius: 50%;\n",
              "    cursor: pointer;\n",
              "    display: none;\n",
              "    fill: var(--fill-color);\n",
              "    height: 32px;\n",
              "    padding: 0;\n",
              "    width: 32px;\n",
              "  }\n",
              "\n",
              "  .colab-df-quickchart:hover {\n",
              "    background-color: var(--hover-bg-color);\n",
              "    box-shadow: 0 1px 2px rgba(60, 64, 67, 0.3), 0 1px 3px 1px rgba(60, 64, 67, 0.15);\n",
              "    fill: var(--button-hover-fill-color);\n",
              "  }\n",
              "\n",
              "  .colab-df-quickchart-complete:disabled,\n",
              "  .colab-df-quickchart-complete:disabled:hover {\n",
              "    background-color: var(--disabled-bg-color);\n",
              "    fill: var(--disabled-fill-color);\n",
              "    box-shadow: none;\n",
              "  }\n",
              "\n",
              "  .colab-df-spinner {\n",
              "    border: 2px solid var(--fill-color);\n",
              "    border-color: transparent;\n",
              "    border-bottom-color: var(--fill-color);\n",
              "    animation:\n",
              "      spin 1s steps(1) infinite;\n",
              "  }\n",
              "\n",
              "  @keyframes spin {\n",
              "    0% {\n",
              "      border-color: transparent;\n",
              "      border-bottom-color: var(--fill-color);\n",
              "      border-left-color: var(--fill-color);\n",
              "    }\n",
              "    20% {\n",
              "      border-color: transparent;\n",
              "      border-left-color: var(--fill-color);\n",
              "      border-top-color: var(--fill-color);\n",
              "    }\n",
              "    30% {\n",
              "      border-color: transparent;\n",
              "      border-left-color: var(--fill-color);\n",
              "      border-top-color: var(--fill-color);\n",
              "      border-right-color: var(--fill-color);\n",
              "    }\n",
              "    40% {\n",
              "      border-color: transparent;\n",
              "      border-right-color: var(--fill-color);\n",
              "      border-top-color: var(--fill-color);\n",
              "    }\n",
              "    60% {\n",
              "      border-color: transparent;\n",
              "      border-right-color: var(--fill-color);\n",
              "    }\n",
              "    80% {\n",
              "      border-color: transparent;\n",
              "      border-right-color: var(--fill-color);\n",
              "      border-bottom-color: var(--fill-color);\n",
              "    }\n",
              "    90% {\n",
              "      border-color: transparent;\n",
              "      border-bottom-color: var(--fill-color);\n",
              "    }\n",
              "  }\n",
              "</style>\n",
              "\n",
              "  <script>\n",
              "    async function quickchart(key) {\n",
              "      const quickchartButtonEl =\n",
              "        document.querySelector('#' + key + ' button');\n",
              "      quickchartButtonEl.disabled = true;  // To prevent multiple clicks.\n",
              "      quickchartButtonEl.classList.add('colab-df-spinner');\n",
              "      try {\n",
              "        const charts = await google.colab.kernel.invokeFunction(\n",
              "            'suggestCharts', [key], {});\n",
              "      } catch (error) {\n",
              "        console.error('Error during call to suggestCharts:', error);\n",
              "      }\n",
              "      quickchartButtonEl.classList.remove('colab-df-spinner');\n",
              "      quickchartButtonEl.classList.add('colab-df-quickchart-complete');\n",
              "    }\n",
              "    (() => {\n",
              "      let quickchartButtonEl =\n",
              "        document.querySelector('#df-c9d0b0a4-30b9-40bd-b961-d6702c8845b1 button');\n",
              "      quickchartButtonEl.style.display =\n",
              "        google.colab.kernel.accessAllowed ? 'block' : 'none';\n",
              "    })();\n",
              "  </script>\n",
              "</div>\n",
              "\n",
              "  <div id=\"id_7e777210-6fbf-44f8-872e-54d0afc98fd3\">\n",
              "    <style>\n",
              "      .colab-df-generate {\n",
              "        background-color: #E8F0FE;\n",
              "        border: none;\n",
              "        border-radius: 50%;\n",
              "        cursor: pointer;\n",
              "        display: none;\n",
              "        fill: #1967D2;\n",
              "        height: 32px;\n",
              "        padding: 0 0 0 0;\n",
              "        width: 32px;\n",
              "      }\n",
              "\n",
              "      .colab-df-generate:hover {\n",
              "        background-color: #E2EBFA;\n",
              "        box-shadow: 0px 1px 2px rgba(60, 64, 67, 0.3), 0px 1px 3px 1px rgba(60, 64, 67, 0.15);\n",
              "        fill: #174EA6;\n",
              "      }\n",
              "\n",
              "      [theme=dark] .colab-df-generate {\n",
              "        background-color: #3B4455;\n",
              "        fill: #D2E3FC;\n",
              "      }\n",
              "\n",
              "      [theme=dark] .colab-df-generate:hover {\n",
              "        background-color: #434B5C;\n",
              "        box-shadow: 0px 1px 3px 1px rgba(0, 0, 0, 0.15);\n",
              "        filter: drop-shadow(0px 1px 2px rgba(0, 0, 0, 0.3));\n",
              "        fill: #FFFFFF;\n",
              "      }\n",
              "    </style>\n",
              "    <button class=\"colab-df-generate\" onclick=\"generateWithVariable('data')\"\n",
              "            title=\"Generate code using this dataframe.\"\n",
              "            style=\"display:none;\">\n",
              "\n",
              "  <svg xmlns=\"http://www.w3.org/2000/svg\" height=\"24px\"viewBox=\"0 0 24 24\"\n",
              "       width=\"24px\">\n",
              "    <path d=\"M7,19H8.4L18.45,9,17,7.55,7,17.6ZM5,21V16.75L18.45,3.32a2,2,0,0,1,2.83,0l1.4,1.43a1.91,1.91,0,0,1,.58,1.4,1.91,1.91,0,0,1-.58,1.4L9.25,21ZM18.45,9,17,7.55Zm-12,3A5.31,5.31,0,0,0,4.9,8.1,5.31,5.31,0,0,0,1,6.5,5.31,5.31,0,0,0,4.9,4.9,5.31,5.31,0,0,0,6.5,1,5.31,5.31,0,0,0,8.1,4.9,5.31,5.31,0,0,0,12,6.5,5.46,5.46,0,0,0,6.5,12Z\"/>\n",
              "  </svg>\n",
              "    </button>\n",
              "    <script>\n",
              "      (() => {\n",
              "      const buttonEl =\n",
              "        document.querySelector('#id_7e777210-6fbf-44f8-872e-54d0afc98fd3 button.colab-df-generate');\n",
              "      buttonEl.style.display =\n",
              "        google.colab.kernel.accessAllowed ? 'block' : 'none';\n",
              "\n",
              "      buttonEl.onclick = () => {\n",
              "        google.colab.notebook.generateWithVariable('data');\n",
              "      }\n",
              "      })();\n",
              "    </script>\n",
              "  </div>\n",
              "\n",
              "    </div>\n",
              "  </div>\n"
            ],
            "text/plain": [
              "                                                   cmt  \\\n",
              "0    đây là lần đầu tiên mình mua son và cũng liều ...   \n",
              "1    Son kem khá lì, nếu trôi gần hết vẫn để lại ba...   \n",
              "2    Màu lên đẹp và sắc nét, chất mỏng mướt k bị kh...   \n",
              "3    Đề cử nha. Mua đợt sale nên có 70k thui, mình ...   \n",
              "4    màu đẹp, rất là lì mùi không thơm lắm, đóng gó...   \n",
              "..                                                 ...   \n",
              "311  Phải nói là thích ko còn gì để nói kkk. Lớp ke...   \n",
              "312  Đã dùng 1 thời gian, sản phẩm dưỡng ẩm cho da ...   \n",
              "313  Chai nhỏ nên dùng nhanh hết, thấy mụn giảm sưn...   \n",
              "314  Sản phẩm mùi thơm nhẹ, thoa lên mẶt thấy nhanh...   \n",
              "315  Dưỡng ẩm tốt, ngăn lão hóa và sáng da thì mình...   \n",
              "\n",
              "                                       Spell_corrected  \\\n",
              "0    đây là lần đầu tiên mình mua son và cũng liều ...   \n",
              "1    Son kem khá lì, nếu trôi gần hết vẫn để lại ba...   \n",
              "2    Màu lên đẹp và sắc nét, chất mỏng mướt k bị kh...   \n",
              "3    Đề cử nha. Mua đợt sale nên có 70k thui, mình ...   \n",
              "4    màu đẹp, rất là lì mùi không thơm lắm, đóng gó...   \n",
              "..                                                 ...   \n",
              "311  Phải nói là thích ko còn gì để nói kkk. Lớp ke...   \n",
              "312  Đã dùng 1 thời gian, sản phẩm dưỡng ẩm cho da ...   \n",
              "313  Chai nhỏ nên dùng nhanh hết, thấy mụn giảm sưn...   \n",
              "314  Sản phẩm mùi thơm nhẹ, thoa lên mẶt thấy nhanh...   \n",
              "315  Dưỡng ẩm tốt, ngăn lão hóa và sáng da thì mình...   \n",
              "\n",
              "                                                   tên  vận chuyển  giá  \\\n",
              "0          Son Kem Siêu Lì, Mịn Môi 3CE Cloud Lip Tint         0.0  0.0   \n",
              "1    Son Kem Lì Mỏng Nhẹ Mềm Môi Belips Sexy Lipsti...         0.0  0.0   \n",
              "2    Son Kem Lì Mỏng Nhẹ Mềm Môi Belips Sexy Lipsti...         0.0  0.0   \n",
              "3    Kem Che Khuyết Điểm The Saem Cover PerfectionT...         1.0  1.0   \n",
              "4                Son Bbia Glow Lip Tint 3.2g ( 5 Màu )         0.0  0.0   \n",
              "..                                                 ...         ...  ...   \n",
              "311  Kem chống nắng kiềm dầu & ngừa mụn Eucerin Sun...         0.0  0.0   \n",
              "312  Gel Lô Hội Dưỡng Ẩm Đa Năng & Làm Mềm Da Từ Nh...         1.0  0.0   \n",
              "313        Serum Ngừa Mụn Dưỡng Trắng Da Oriss Cao Cấp         0.0  0.0   \n",
              "314            SERUM NGỪA MỤN THÂM - MỜ SẸO 25ML - MOC         0.0  0.0   \n",
              "315  Kem Dưỡng Ngăn Lão Hóa, Sáng Da Vichy Collagen...         0.0  0.0   \n",
              "\n",
              "     đóng gói  dịch vụ  mùi hương  kết cấu  độ bền  Màu sắc  \n",
              "0         0.0      0.0        0.0      0.0     1.0      1.0  \n",
              "1         0.0      0.0        0.0      1.0     1.0      1.0  \n",
              "2         0.0      0.0        0.0      1.0     1.0      1.0  \n",
              "3         0.0      1.0        0.0      0.0     1.0      1.0  \n",
              "4         1.0      0.0        1.0      0.0     1.0      1.0  \n",
              "..        ...      ...        ...      ...     ...      ...  \n",
              "311       0.0      0.0        0.0      1.0     1.0      0.0  \n",
              "312       1.0      1.0        1.0      1.0     1.0      0.0  \n",
              "313       0.0      0.0        1.0      0.0     0.0      0.0  \n",
              "314       0.0      0.0        1.0      1.0     1.0      0.0  \n",
              "315       0.0      0.0        0.0      0.0     1.0      0.0  \n",
              "\n",
              "[316 rows x 11 columns]"
            ]
          },
          "execution_count": 34,
          "metadata": {},
          "output_type": "execute_result"
        }
      ],
      "source": [
        "data = data[:316]\n",
        "data = data.dropna(axis=1)\n",
        "data"
      ]
    },
    {
      "cell_type": "code",
      "execution_count": null,
      "metadata": {
        "id": "bg-9eag126yU"
      },
      "outputs": [],
      "source": [
        "data['cmt'] = data['Spell_corrected'].apply(text_preprocess)"
      ]
    },
    {
      "cell_type": "code",
      "execution_count": null,
      "metadata": {
        "colab": {
          "base_uri": "https://localhost:8080/"
        },
        "id": "x-okTzUR33Su",
        "outputId": "5f5d946d-f862-486d-b0dd-72b01ee2ff75"
      },
      "outputs": [
        {
          "name": "stdout",
          "output_type": "stream",
          "text": [
            "chuốt mi siêu đỉnh còn không lem không vón cục chân aia cuộc_đời tui đây rùi hihi trung_thành sản_phẩm này lun\n"
          ]
        }
      ],
      "source": [
        "row_140 = data.iloc[210]  # 139 là chỉ số của dòng 140\n",
        "\n",
        "print(row_140['cmt'])"
      ]
    },
    {
      "cell_type": "markdown",
      "metadata": {
        "id": "3vlhURvEFQVd"
      },
      "source": [
        "Remove Stopword"
      ]
    },
    {
      "cell_type": "code",
      "execution_count": null,
      "metadata": {
        "colab": {
          "base_uri": "https://localhost:8080/"
        },
        "id": "i6rDUTNYFS2e",
        "outputId": "62c881f5-ef07-4354-825a-5fde6c83321f"
      },
      "outputs": [
        {
          "name": "stdout",
          "output_type": "stream",
          "text": [
            "0       có\n",
            "1      thì\n",
            "2      nên\n",
            "3       và\n",
            "4       là\n",
            "5      này\n",
            "6       bị\n",
            "7     cũng\n",
            "8      cho\n",
            "9       đã\n",
            "10     của\n",
            "11      mà\n",
            "12     lên\n",
            "13     như\n",
            "14     với\n",
            "15      sẽ\n",
            "16     lại\n",
            "17     còn\n",
            "18    luôn\n",
            "19     rồi\n",
            "20     nha\n",
            "21     nhé\n",
            "22       ạ\n",
            "23       à\n",
            "24      ơi\n",
            "25    mình\n",
            "26     vẫn\n",
            "27      về\n",
            "28      vì\n",
            "29       *\n",
            "30    kiểu\n",
            "31    thấy\n",
            "Name: Word, dtype: object\n",
            "['có', 'thì', 'nên', 'và', 'là', 'này', 'bị', 'cũng', 'cho', 'đã', 'của', 'mà', 'lên', 'như', 'với', 'sẽ', 'lại', 'còn', 'luôn', 'rồi', 'nha', 'nhé', 'ạ', 'à', 'ơi', 'mình', 'vẫn', 'về', 'vì', '*', 'kiểu', 'thấy', 'á', 'lắm']\n"
          ]
        }
      ],
      "source": [
        "from underthesea import word_tokenize\n",
        "def word_segmentation(x):\n",
        "    word=word_tokenize(x)\n",
        "    return word\n",
        "from collections import Counter\n",
        "\n",
        "def stopword_find(x):\n",
        "      return Counter(x)\n",
        "\n",
        "def remove_stopwords(line):\n",
        "  s2=[]\n",
        "  for word in line:\n",
        "      if word not in stopword_list:\n",
        "          s2.append(word)\n",
        "  return s2\n",
        "def detokenize(tokens):\n",
        "    # Join tokens to form a complete sentence\n",
        "    return ' '.join(tokens)\n",
        "stopword = pd.read_csv('/content/drive/MyDrive/1 nùi Project/Machine learning/Gắn tag cho bình luận/Data/stopword-endd.csv')\n",
        "stopword=stopword['Word'].dropna()\n",
        "print(stopword)\n",
        "stopword_list=list(stopword)\n",
        "stopword_list.append('á')\n",
        "stopword_list.append('lắm')\n",
        "print(stopword_list)\n"
      ]
    },
    {
      "cell_type": "code",
      "execution_count": null,
      "metadata": {
        "id": "B_yiuc35F-QS"
      },
      "outputs": [],
      "source": [
        "data[\"tokenized_text\"]=data[\"cmt\"].apply(word_segmentation)\n",
        "data[\"tokenized_text\"]=data[\"tokenized_text\"].apply(remove_stopwords)\n",
        "data['cmt'] = data['tokenized_text'].apply(detokenize)"
      ]
    },
    {
      "cell_type": "code",
      "execution_count": null,
      "metadata": {
        "colab": {
          "base_uri": "https://localhost:8080/"
        },
        "id": "dE1jovhD6cNF",
        "outputId": "470e522d-b9ba-4207-9803-a0d423fc1aec"
      },
      "outputs": [
        {
          "data": {
            "text/plain": [
              "0      đây lần đầu_tiên mua son liều thử mua son trên...\n",
              "1      son kem khá lì nếu trôi gần hết để base hồng t...\n",
              "2      màu đẹp sắc nét chất mỏng mướt không khô môi l...\n",
              "3      đề_cử mua đợt sale 70 không thui chọn màu 1 5 ...\n",
              "4          màu đẹp rất lì mùi không thơm đóng_gói đẹp kỹ\n",
              "                             ...                        \n",
              "311    phải nói thích không gì để nói không lớp kem k...\n",
              "312    dùng 1 thời_gian sản_phẩm dưỡng ẩm da tốt mùi ...\n",
              "313    chai nhỏ dùng nhanh hết mụn giảm sưng mua thêm...\n",
              "314    sản_phẩm mùi thơm nhẹ thoa lên_mặt nhanh khô l...\n",
              "315    dưỡng ẩm tốt ngăn lão_hóa sáng da không chắc c...\n",
              "Name: cmt, Length: 316, dtype: object"
            ]
          },
          "execution_count": 54,
          "metadata": {},
          "output_type": "execute_result"
        }
      ],
      "source": [
        "data['cmt']"
      ]
    },
    {
      "cell_type": "code",
      "execution_count": null,
      "metadata": {
        "id": "ooPAAzNf36fV"
      },
      "outputs": [],
      "source": [
        "file_path = '/content/drive/MyDrive/1 nùi Project/Machine learning/Gắn tag cho bình luận/Data/Training_bonus.csv'\n",
        "\n",
        "# Ghi DataFrame vào tệp CSV\n",
        "data.to_csv(file_path, index=False)  # index=False để không lưu cột index vào file CSV\n"
      ]
    }
  ],
  "metadata": {
    "colab": {
      "provenance": []
    },
    "kernelspec": {
      "display_name": "Python 3",
      "name": "python3"
    },
    "language_info": {
      "name": "python"
    }
  },
  "nbformat": 4,
  "nbformat_minor": 0
}
