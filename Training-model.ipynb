{
  "cells": [
    {
      "cell_type": "code",
      "execution_count": null,
      "metadata": {
        "colab": {
          "base_uri": "https://localhost:8080/"
        },
        "id": "GnHqyfbyPGj9",
        "outputId": "0377616c-f0c2-4334-ef1b-826febff6de0"
      },
      "outputs": [
        {
          "name": "stdout",
          "output_type": "stream",
          "text": [
            "Mounted at /content/drive\n"
          ]
        }
      ],
      "source": [
        "import pandas as pd\n",
        "import torch\n",
        "from transformers import AutoTokenizer,AutoModel\n",
        "import re\n",
        "from sklearn.model_selection import train_test_split\n",
        "# Feature engineering\n",
        "from sklearn.feature_extraction.text import TfidfVectorizer\n",
        "from google.colab import drive\n",
        "drive.mount(\"/content/drive\")\n"
      ]
    },
    {
      "cell_type": "code",
      "execution_count": null,
      "metadata": {
        "id": "waYxP4fG9MuV"
      },
      "outputs": [],
      "source": [
        "# Read data\n",
        "\n",
        "df = pd.DataFrame()\n",
        "df = pd.read_csv(\"/content/drive/MyDrive/1 nùi Project/Machine learning/Gắn tag cho bình luận/Data/Training file/Train.csv\", encoding=\"utf-8\")"
      ]
    },
    {
      "cell_type": "code",
      "execution_count": null,
      "metadata": {
        "colab": {
          "base_uri": "https://localhost:8080/"
        },
        "id": "VWsfAh2ZSDCg",
        "outputId": "a47efd1f-7c28-4347-b2c8-d36856649122"
      },
      "outputs": [
        {
          "name": "stdout",
          "output_type": "stream",
          "text": [
            "<class 'pandas.core.frame.DataFrame'>\n",
            "RangeIndex: 3492 entries, 0 to 3491\n",
            "Data columns (total 14 columns):\n",
            " #   Column           Non-Null Count  Dtype \n",
            "---  ------           --------------  ----- \n",
            " 0   Unnamed: 0       3492 non-null   object\n",
            " 1   cmt              3492 non-null   object\n",
            " 2   Spell_corrected  3492 non-null   object\n",
            " 3   tên              3492 non-null   object\n",
            " 4   vận chuyển       3492 non-null   object\n",
            " 5   giá              3492 non-null   object\n",
            " 6   đóng gói         3492 non-null   object\n",
            " 7   dịch vụ          3492 non-null   object\n",
            " 8   mùi hương        3492 non-null   object\n",
            " 9   chất lượng       3492 non-null   object\n",
            " 10  kết cấu          3492 non-null   object\n",
            " 11  độ bền           3492 non-null   object\n",
            " 12  Màu sắc          3492 non-null   object\n",
            " 13  tokenized_text   3492 non-null   object\n",
            "dtypes: object(14)\n",
            "memory usage: 382.1+ KB\n",
            "None\n"
          ]
        }
      ],
      "source": [
        "# reset data index\n",
        "\n",
        "df = df.reset_index(drop=True)\n",
        "df=df.astype(str)\n",
        "print(df.info())"
      ]
    },
    {
      "cell_type": "code",
      "execution_count": null,
      "metadata": {
        "id": "4LXhEPiLHy6K"
      },
      "outputs": [],
      "source": [
        "# processing on the copy of the data\n",
        "dw = df.copy()"
      ]
    },
    {
      "cell_type": "code",
      "execution_count": null,
      "metadata": {
        "id": "pprNXgKLGJFq"
      },
      "outputs": [],
      "source": [
        "# Multi Label Pkgs\n",
        "from skmultilearn.problem_transform import BinaryRelevance\n",
        "from skmultilearn.problem_transform import ClassifierChain\n",
        "from skmultilearn.problem_transform import LabelPowerset\n",
        "from skmultilearn.adapt import MLkNN"
      ]
    },
    {
      "cell_type": "code",
      "execution_count": null,
      "metadata": {
        "id": "n74ATq-wOsh2"
      },
      "outputs": [],
      "source": [
        "# ML Pkgs\n",
        "from sklearn.linear_model import LogisticRegression\n",
        "from sklearn.neighbors import KNeighborsClassifier\n",
        "from sklearn.tree import DecisionTreeClassifier\n",
        "from sklearn.naive_bayes import GaussianNB,MultinomialNB\n",
        "from sklearn.metrics import accuracy_score,hamming_loss,classification_report"
      ]
    },
    {
      "cell_type": "markdown",
      "metadata": {},
      "source": [
        "### Vectorization"
      ]
    },
    {
      "cell_type": "markdown",
      "metadata": {},
      "source": [
        "vectorization with Tf-idf"
      ]
    },
    {
      "cell_type": "code",
      "execution_count": null,
      "metadata": {
        "id": "w6UAUHA5_VBd"
      },
      "outputs": [],
      "source": [
        "tfidf = TfidfVectorizer(max_features=1000, ngram_range=(1, 2), min_df=2, max_df=0.8)\n",
        "corpus = dw['cmt']\n",
        "Xfeatures = tfidf.fit_transform(corpus).toarray()"
      ]
    },
    {
      "cell_type": "markdown",
      "metadata": {},
      "source": [
        "vectorization with Word2vec"
      ]
    },
    {
      "cell_type": "code",
      "execution_count": null,
      "metadata": {},
      "outputs": [],
      "source": [
        "# from underthesea import word_tokenize\n",
        "# import nltk\n",
        "# from nltk.tokenize import word_tokenize\n",
        "# nltk.download('punkt')"
      ]
    },
    {
      "cell_type": "code",
      "execution_count": null,
      "metadata": {},
      "outputs": [],
      "source": [
        "# Xfeatures = dw['cmt']\n",
        "# tokenized_Xfeatures = Xfeatures.apply(lambda x: word_tokenize(x))"
      ]
    },
    {
      "cell_type": "code",
      "execution_count": null,
      "metadata": {},
      "outputs": [],
      "source": [
        "# from gensim.models import Word2Vec\n",
        "# model = Word2Vec(tokenized_Xfeatures, min_count = 1, vector_size = 50, window = 5, sg = 1, workers = 4)\n",
        "# model.train(tokenized_Xfeatures, total_examples = model.corpus_count, epochs = 10)"
      ]
    },
    {
      "cell_type": "code",
      "execution_count": null,
      "metadata": {},
      "outputs": [],
      "source": [
        "# def get_sentence_embedding(sentence, model, vector_size):\n",
        "#     words = sentence.split()  # Tách câu thành từng từ\n",
        "#     word_embeddings = [model.wv[word] for word in words if word in model.wv]  # Lấy embedding của từ trong từ điển của mô hình\n",
        "#     if len(word_embeddings) > 0:\n",
        "#         # Trả về trung bình của các embedding nếu có từ nào trong từ điển của mô hình\n",
        "#         return sum(word_embeddings) / len(word_embeddings)\n",
        "#     else:\n",
        "#         # Trả về zero vector nếu không có từ nào trong từ điển của mô hình\n",
        "#         return [0] * vector_size\n",
        "\n",
        "# # Tạo cột mới trong DataFrame để lưu trữ embedding\n",
        "# Xfeatures = dw['cmt'].apply(lambda x: get_sentence_embedding(x, model, model.vector_size))\n"
      ]
    },
    {
      "cell_type": "markdown",
      "metadata": {},
      "source": [
        "vectorization with Bag of word"
      ]
    },
    {
      "cell_type": "code",
      "execution_count": null,
      "metadata": {},
      "outputs": [],
      "source": [
        "# tokenised_cmt= dw['cmt'].apply(lambda x: x.split())\n",
        "# tokenised_cmt.head()"
      ]
    },
    {
      "cell_type": "code",
      "execution_count": null,
      "metadata": {},
      "outputs": [],
      "source": [
        "# #bag of word features\n",
        "# from sklearn.feature_extraction.text import CountVectorizer\n",
        "\n",
        "# corpus = dw['cmt']\n",
        "# bow_vectorizer = CountVectorizer(max_df=0.90, min_df=2, max_features=1000)\n",
        "# Xfeatures=bow_vectorizer.fit_transform(corpus)"
      ]
    },
    {
      "cell_type": "code",
      "execution_count": null,
      "metadata": {
        "colab": {
          "base_uri": "https://localhost:8080/"
        },
        "id": "N4S1xLUZBPU5",
        "outputId": "784d614a-8c22-42f6-eb07-cbbbdcceeba1"
      },
      "outputs": [
        {
          "data": {
            "text/plain": [
              "Unnamed: 0         object\n",
              "cmt                object\n",
              "Spell_corrected    object\n",
              "tên                object\n",
              "vận chuyển         object\n",
              "giá                object\n",
              "đóng gói           object\n",
              "dịch vụ            object\n",
              "mùi hương          object\n",
              "chất lượng         object\n",
              "kết cấu            object\n",
              "độ bền             object\n",
              "Màu sắc            object\n",
              "tokenized_text     object\n",
              "dtype: object"
            ]
          },
          "execution_count": 10,
          "metadata": {},
          "output_type": "execute_result"
        }
      ],
      "source": [
        "dw.dtypes"
      ]
    },
    {
      "cell_type": "code",
      "execution_count": null,
      "metadata": {
        "id": "ONTggbyOA4qR"
      },
      "outputs": [],
      "source": [
        "dw['chất lượng'] = dw['chất lượng'].astype(float)\n",
        "dw['kết cấu'] = dw['kết cấu'].astype(float)\n",
        "dw['vận chuyển'] = dw['vận chuyển'].astype(float)\n",
        "dw['giá'] = dw['giá'].astype(float)\n",
        "dw['đóng gói'] = dw['đóng gói'].astype(float)\n",
        "dw['dịch vụ'] = dw['dịch vụ'].astype(float)\n",
        "dw['mùi hương'] = dw['mùi hương'].astype(float)\n",
        "dw['độ bền'] = dw['độ bền'].astype(float)\n",
        "dw['Màu sắc'] = dw['Màu sắc'].astype(float)"
      ]
    },
    {
      "cell_type": "code",
      "execution_count": null,
      "metadata": {
        "colab": {
          "base_uri": "https://localhost:8080/"
        },
        "id": "h3EDpPxPB8iB",
        "outputId": "01bf01fb-2731-441c-a8fc-6ff8439df4f2"
      },
      "outputs": [
        {
          "data": {
            "text/plain": [
              "Index(['Unnamed: 0', 'cmt', 'Spell_corrected', 'tên', 'vận chuyển', 'giá',\n",
              "       'đóng gói', 'dịch vụ', 'mùi hương', 'chất lượng', 'kết cấu', 'độ bền',\n",
              "       'Màu sắc', 'tokenized_text'],\n",
              "      dtype='object')"
            ]
          },
          "execution_count": 12,
          "metadata": {},
          "output_type": "execute_result"
        }
      ],
      "source": [
        "dw.columns"
      ]
    },
    {
      "cell_type": "markdown",
      "metadata": {
        "id": "lqML4x4sQ2rN"
      },
      "source": [
        "## Visualize data"
      ]
    },
    {
      "cell_type": "code",
      "execution_count": null,
      "metadata": {
        "colab": {
          "base_uri": "https://localhost:8080/",
          "height": 607
        },
        "id": "MW2MMak2SUbR",
        "outputId": "0b730bd5-1116-4b42-96a7-704f7e497a13"
      },
      "outputs": [
        {
          "data": {
            "image/png": "[encoded data removed]",
            "text/plain": [
              "<Figure size 800x600 with 1 Axes>"
            ]
          },
          "metadata": {},
          "output_type": "display_data"
        }
      ],
      "source": [
        "import matplotlib.pyplot as plt\n",
        "\n",
        "colors = ['blue', 'green', 'red', 'purple', 'orange', 'yellow', 'cyan', 'magenta', 'lime']\n",
        "type_counts = dw[['chất lượng', 'kết cấu', 'vận chuyển', 'giá', 'đóng gói', 'dịch vụ', 'mùi hương', 'độ bền', 'Màu sắc']].sum()\n",
        "\n",
        "tags = type_counts.index.tolist()\n",
        "counts = type_counts.tolist()\n",
        "\n",
        "plt.figure(figsize=(8, 6))\n",
        "plt.bar(tags, counts, color=colors)\n",
        "plt.xlabel('Tags')\n",
        "plt.ylabel('Frequency')\n",
        "plt.title('Number of Tags')\n",
        "plt.xticks(rotation=45)\n",
        "plt.tight_layout()\n",
        "plt.show()"
      ]
    },
    {
      "cell_type": "markdown",
      "metadata": {},
      "source": [
        "Data splitting"
      ]
    },
    {
      "cell_type": "code",
      "execution_count": null,
      "metadata": {
        "id": "vLNDtRXKCEJA"
      },
      "outputs": [],
      "source": [
        "y = dw[['vận chuyển', 'giá', 'đóng gói', 'dịch vụ', 'mùi hương', 'kết cấu', 'độ bền', 'Màu sắc']]"
      ]
    },
    {
      "cell_type": "code",
      "execution_count": null,
      "metadata": {
        "id": "flFBtqdgCGsn"
      },
      "outputs": [],
      "source": [
        "X_train, X_test, y_train, y_test = train_test_split(Xfeatures, y, test_size=0.2, random_state=42)"
      ]
    },
    {
      "cell_type": "code",
      "execution_count": null,
      "metadata": {
        "colab": {
          "base_uri": "https://localhost:8080/"
        },
        "id": "cazMAHNQCX-i",
        "outputId": "a9789d28-bbc6-4431-e823-8b07666d19c9"
      },
      "outputs": [
        {
          "name": "stdout",
          "output_type": "stream",
          "text": [
            "(2793, 1000)\n",
            "(2793, 8)\n",
            "(699, 1000)\n",
            "(699, 8)\n"
          ]
        },
        {
          "data": {
            "text/plain": [
              "(None, None)"
            ]
          },
          "execution_count": 20,
          "metadata": {},
          "output_type": "execute_result"
        }
      ],
      "source": [
        "print(X_train.shape), print(y_train.shape)\n",
        "print(X_test.shape), print(y_test.shape)"
      ]
    },
    {
      "cell_type": "code",
      "execution_count": null,
      "metadata": {
        "colab": {
          "base_uri": "https://localhost:8080/"
        },
        "id": "KO9_pcndAzoV",
        "outputId": "fb76f4c9-dddd-4acc-86d6-d015b9d3b79f"
      },
      "outputs": [
        {
          "name": "stdout",
          "output_type": "stream",
          "text": [
            "(3492,)\n",
            "(2793, 1000)\n"
          ]
        }
      ],
      "source": [
        "print(dw['cmt'].shape)\n",
        "print(X_train.shape)"
      ]
    },
    {
      "cell_type": "markdown",
      "metadata": {},
      "source": [
        "## Train model"
      ]
    },
    {
      "cell_type": "code",
      "execution_count": null,
      "metadata": {
        "id": "Acx0hx2PNSr5"
      },
      "outputs": [],
      "source": [
        "from sklearn.metrics import f1_score, make_scorer, precision_score, recall_score\n",
        "from sklearn.model_selection import cross_val_score\n",
        "from sklearn.model_selection import cross_validate"
      ]
    },
    {
      "cell_type": "markdown",
      "metadata": {
        "id": "dHkzNcPPQ4U8"
      },
      "source": [
        "Training with BinaryRelevance method"
      ]
    },
    {
      "cell_type": "code",
      "execution_count": null,
      "metadata": {
        "colab": {
          "base_uri": "https://localhost:8080/",
          "height": 117
        },
        "id": "VeRd8u6KCiuy",
        "outputId": "1b5a2f33-79d8-4e3a-e04c-865636c75c3f"
      },
      "outputs": [
        {
          "data": {
            "text/html": [
              "<style>#sk-container-id-1 {color: black;background-color: white;}#sk-container-id-1 pre{padding: 0;}#sk-container-id-1 div.sk-toggleable {background-color: white;}#sk-container-id-1 label.sk-toggleable__label {cursor: pointer;display: block;width: 100%;margin-bottom: 0;padding: 0.3em;box-sizing: border-box;text-align: center;}#sk-container-id-1 label.sk-toggleable__label-arrow:before {content: \"▸\";float: left;margin-right: 0.25em;color: #696969;}#sk-container-id-1 label.sk-toggleable__label-arrow:hover:before {color: black;}#sk-container-id-1 div.sk-estimator:hover label.sk-toggleable__label-arrow:before {color: black;}#sk-container-id-1 div.sk-toggleable__content {max-height: 0;max-width: 0;overflow: hidden;text-align: left;background-color: #f0f8ff;}#sk-container-id-1 div.sk-toggleable__content pre {margin: 0.2em;color: black;border-radius: 0.25em;background-color: #f0f8ff;}#sk-container-id-1 input.sk-toggleable__control:checked~div.sk-toggleable__content {max-height: 200px;max-width: 100%;overflow: auto;}#sk-container-id-1 input.sk-toggleable__control:checked~label.sk-toggleable__label-arrow:before {content: \"▾\";}#sk-container-id-1 div.sk-estimator input.sk-toggleable__control:checked~label.sk-toggleable__label {background-color: #d4ebff;}#sk-container-id-1 div.sk-label input.sk-toggleable__control:checked~label.sk-toggleable__label {background-color: #d4ebff;}#sk-container-id-1 input.sk-hidden--visually {border: 0;clip: rect(1px 1px 1px 1px);clip: rect(1px, 1px, 1px, 1px);height: 1px;margin: -1px;overflow: hidden;padding: 0;position: absolute;width: 1px;}#sk-container-id-1 div.sk-estimator {font-family: monospace;background-color: #f0f8ff;border: 1px dotted black;border-radius: 0.25em;box-sizing: border-box;margin-bottom: 0.5em;}#sk-container-id-1 div.sk-estimator:hover {background-color: #d4ebff;}#sk-container-id-1 div.sk-parallel-item::after {content: \"\";width: 100%;border-bottom: 1px solid gray;flex-grow: 1;}#sk-container-id-1 div.sk-label:hover label.sk-toggleable__label {background-color: #d4ebff;}#sk-container-id-1 div.sk-serial::before {content: \"\";position: absolute;border-left: 1px solid gray;box-sizing: border-box;top: 0;bottom: 0;left: 50%;z-index: 0;}#sk-container-id-1 div.sk-serial {display: flex;flex-direction: column;align-items: center;background-color: white;padding-right: 0.2em;padding-left: 0.2em;position: relative;}#sk-container-id-1 div.sk-item {position: relative;z-index: 1;}#sk-container-id-1 div.sk-parallel {display: flex;align-items: stretch;justify-content: center;background-color: white;position: relative;}#sk-container-id-1 div.sk-item::before, #sk-container-id-1 div.sk-parallel-item::before {content: \"\";position: absolute;border-left: 1px solid gray;box-sizing: border-box;top: 0;bottom: 0;left: 50%;z-index: -1;}#sk-container-id-1 div.sk-parallel-item {display: flex;flex-direction: column;z-index: 1;position: relative;background-color: white;}#sk-container-id-1 div.sk-parallel-item:first-child::after {align-self: flex-end;width: 50%;}#sk-container-id-1 div.sk-parallel-item:last-child::after {align-self: flex-start;width: 50%;}#sk-container-id-1 div.sk-parallel-item:only-child::after {width: 0;}#sk-container-id-1 div.sk-dashed-wrapped {border: 1px dashed gray;margin: 0 0.4em 0.5em 0.4em;box-sizing: border-box;padding-bottom: 0.4em;background-color: white;}#sk-container-id-1 div.sk-label label {font-family: monospace;font-weight: bold;display: inline-block;line-height: 1.2em;}#sk-container-id-1 div.sk-label-container {text-align: center;}#sk-container-id-1 div.sk-container {/* jupyter's `normalize.less` sets `[hidden] { display: none; }` but bootstrap.min.css set `[hidden] { display: none !important; }` so we also need the `!important` here to be able to override the default hidden behavior on the sphinx rendered scikit-learn.org. See: https://github.com/scikit-learn/scikit-learn/issues/21755 */display: inline-block !important;position: relative;}#sk-container-id-1 div.sk-text-repr-fallback {display: none;}</style><div id=\"sk-container-id-1\" class=\"sk-top-container\"><div class=\"sk-text-repr-fallback\"><pre>BinaryRelevance(classifier=MultinomialNB(), require_dense=[True, True])</pre><b>In a Jupyter environment, please rerun this cell to show the HTML representation or trust the notebook. <br />On GitHub, the HTML representation is unable to render, please try loading this page with nbviewer.org.</b></div><div class=\"sk-container\" hidden><div class=\"sk-item sk-dashed-wrapped\"><div class=\"sk-label-container\"><div class=\"sk-label sk-toggleable\"><input class=\"sk-toggleable__control sk-hidden--visually\" id=\"sk-estimator-id-1\" type=\"checkbox\" ><label for=\"sk-estimator-id-1\" class=\"sk-toggleable__label sk-toggleable__label-arrow\">BinaryRelevance</label><div class=\"sk-toggleable__content\"><pre>BinaryRelevance(classifier=MultinomialNB(), require_dense=[True, True])</pre></div></div></div><div class=\"sk-parallel\"><div class=\"sk-parallel-item\"><div class=\"sk-item\"><div class=\"sk-label-container\"><div class=\"sk-label sk-toggleable\"><input class=\"sk-toggleable__control sk-hidden--visually\" id=\"sk-estimator-id-2\" type=\"checkbox\" ><label for=\"sk-estimator-id-2\" class=\"sk-toggleable__label sk-toggleable__label-arrow\">classifier: MultinomialNB</label><div class=\"sk-toggleable__content\"><pre>MultinomialNB()</pre></div></div></div><div class=\"sk-serial\"><div class=\"sk-item\"><div class=\"sk-estimator sk-toggleable\"><input class=\"sk-toggleable__control sk-hidden--visually\" id=\"sk-estimator-id-3\" type=\"checkbox\" ><label for=\"sk-estimator-id-3\" class=\"sk-toggleable__label sk-toggleable__label-arrow\">MultinomialNB</label><div class=\"sk-toggleable__content\"><pre>MultinomialNB()</pre></div></div></div></div></div></div></div></div></div></div>"
            ],
            "text/plain": [
              "BinaryRelevance(classifier=MultinomialNB(), require_dense=[True, True])"
            ]
          },
          "execution_count": 24,
          "metadata": {},
          "output_type": "execute_result"
        }
      ],
      "source": [
        "binary_rel_clf = BinaryRelevance(MultinomialNB())\n",
        "binary_rel_clf.fit(X_train,y_train)"
      ]
    },
    {
      "cell_type": "code",
      "execution_count": null,
      "metadata": {
        "colab": {
          "base_uri": "https://localhost:8080/"
        },
        "id": "4oMzGSFNP975",
        "outputId": "f26ab4db-9906-481f-aede-a98b346780d0"
      },
      "outputs": [
        {
          "name": "stdout",
          "output_type": "stream",
          "text": [
            "[[1. 0. 1. ... 0. 0. 0.]\n",
            " [0. 0. 0. ... 0. 1. 0.]\n",
            " [0. 0. 0. ... 0. 0. 1.]\n",
            " ...\n",
            " [0. 0. 0. ... 1. 0. 0.]\n",
            " [1. 0. 0. ... 0. 0. 0.]\n",
            " [0. 0. 0. ... 0. 0. 0.]]\n",
            "      vận chuyển  giá  đóng gói  dịch vụ  mùi hương  kết cấu  độ bền  Màu sắc\n",
            "295          1.0  0.0       1.0      1.0        0.0      0.0     0.0      0.0\n",
            "718          0.0  0.0       0.0      1.0        0.0      0.0     0.0      0.0\n",
            "952          0.0  0.0       0.0      1.0        0.0      0.0     0.0      1.0\n",
            "2561         0.0  0.0       0.0      0.0        0.0      0.0     0.0      0.0\n",
            "2547         0.0  0.0       0.0      1.0        0.0      0.0     0.0      0.0\n",
            "...          ...  ...       ...      ...        ...      ...     ...      ...\n",
            "631          0.0  0.0       0.0      0.0        0.0      0.0     0.0      0.0\n",
            "1551         0.0  0.0       0.0      0.0        0.0      1.0     1.0      0.0\n",
            "2880         0.0  0.0       0.0      0.0        0.0      0.0     1.0      0.0\n",
            "162          1.0  1.0       0.0      1.0        0.0      0.0     0.0      0.0\n",
            "2979         0.0  0.0       0.0      0.0        0.0      0.0     0.0      0.0\n",
            "\n",
            "[699 rows x 8 columns]\n"
          ]
        }
      ],
      "source": [
        "binary_rel_clf = BinaryRelevance(MultinomialNB())\n",
        "binary_rel_clf.fit(X_train,y_train)\n",
        "br_prediction = binary_rel_clf.predict(X_test)\n",
        "print(br_prediction.toarray())\n",
        "print(y_test)"
      ]
    },
    {
      "cell_type": "code",
      "execution_count": null,
      "metadata": {
        "colab": {
          "base_uri": "https://localhost:8080/"
        },
        "id": "dm4gHUX1RuLN",
        "outputId": "862061eb-1488-47ed-86b6-2d9851c564a5"
      },
      "outputs": [
        {
          "name": "stdout",
          "output_type": "stream",
          "text": [
            "Accuracy trên tập test: 0.48\n",
            "Micro-average F1 score: 0.6818181818181818\n",
            "Macro-average F1 score: 0.6272561391301671\n"
          ]
        }
      ],
      "source": [
        "# Evaluate the performance of the model on the test set\n",
        "accuracy_test = accuracy_score(y_test, br_prediction)\n",
        "print(f\"Accuracy trên tập test: {accuracy_test:.2f}\")\n",
        "\n",
        "micro_f1 = f1_score(y_test, br_prediction, average='micro')\n",
        "print(f\"Micro-average F1 score: {micro_f1}\")\n",
        "\n",
        "# Calculate macro-average F1 score\n",
        "macro_f1 = f1_score(y_test, br_prediction, average='macro')\n",
        "print(f\"Macro-average F1 score: {macro_f1}\")"
      ]
    },
    {
      "cell_type": "code",
      "execution_count": null,
      "metadata": {
        "colab": {
          "base_uri": "https://localhost:8080/"
        },
        "id": "5XGFXSPTxGiI",
        "outputId": "67f5f767-13bd-4003-90c1-00a7dab99e9a"
      },
      "outputs": [
        {
          "name": "stdout",
          "output_type": "stream",
          "text": [
            "precision_macro scores: [0.90022939 0.90039221 0.91310878 0.91177943 0.9001538 ]\n",
            "\n",
            "precision_micro scores: [0.85741811 0.89173228 0.88293651 0.8987069  0.884     ]\n",
            "\n",
            "f1_macro scores: [0.58181361 0.58355362 0.59010041 0.61622254 0.59950572]\n",
            "\n",
            "f1_micro scores: [0.64821559 0.65938865 0.65682657 0.66401274 0.65481481]\n",
            "\n",
            "recall_macro scores: [0.4671814  0.47350407 0.46898477 0.48339891 0.47946355]\n",
            "\n",
            "recall_micro scores: [0.52107728 0.52309469 0.52291422 0.52651515 0.52      ]\n",
            "\n"
          ]
        }
      ],
      "source": [
        "# Evaluate through cross-validation.\n",
        "pred = binary_rel_clf.fit(X_train, y_train)\n",
        "\n",
        "scorings = ['precision_macro', 'precision_micro', 'f1_macro', 'f1_micro', 'recall_macro', 'recall_micro']\n",
        "\n",
        "scores = cross_validate(pred, X_train, y_train, cv=5, scoring=scorings)\n",
        "\n",
        "for metric in scorings:\n",
        "    score_key = f'test_{metric}'\n",
        "    metric_scores = scores[score_key]\n",
        "    print(f\"{metric} scores: {metric_scores}\\n\")"
      ]
    },
    {
      "cell_type": "code",
      "execution_count": null,
      "metadata": {
        "colab": {
          "base_uri": "https://localhost:8080/"
        },
        "id": "AHeQDx6HQxbk",
        "outputId": "bfe26a61-ac3b-4288-aec8-a4f4e3f69b83"
      },
      "outputs": [
        {
          "data": {
            "text/plain": [
              "0.10515021459227468"
            ]
          },
          "execution_count": 28,
          "metadata": {},
          "output_type": "execute_result"
        }
      ],
      "source": [
        "# Evaluate through loss function.\"\n",
        "hamming_loss(y_test,br_prediction)"
      ]
    },
    {
      "cell_type": "code",
      "execution_count": null,
      "metadata": {
        "id": "QcdS_1mtDrV6"
      },
      "outputs": [],
      "source": [
        "from sklearn.model_selection import GridSearchCV\n",
        "from sklearn.ensemble import RandomForestClassifier\n",
        "from sklearn.neighbors import KNeighborsClassifier\n",
        "from sklearn.svm import SVC\n",
        "from sklearn.linear_model import LogisticRegression"
      ]
    },
    {
      "cell_type": "code",
      "execution_count": null,
      "metadata": {
        "id": "o2D_2lkjrj_a"
      },
      "outputs": [],
      "source": [
        "# Find the best parameter\n",
        "parameters = [\n",
        "    {\n",
        "        'classifier': [MultinomialNB()],\n",
        "        'classifier__alpha': [0.7, 1.0, 1.3],\n",
        "    },\n",
        "    {\n",
        "        'classifier': [RandomForestClassifier()],\n",
        "        'classifier__criterion': ['gini', 'entropy'],\n",
        "        'classifier__n_estimators': [50, 100, 150],\n",
        "    },\n",
        "    {\n",
        "        'classifier': [KNeighborsClassifier()],\n",
        "        'classifier__n_neighbors': [2, 3, 5, 8, 9],\n",
        "        'classifier__weights': ['uniform', 'distance'],\n",
        "    },\n",
        "    {\n",
        "        'classifier': [SVC()],\n",
        "        'classifier__C': [0.01, 0.1, 1.0],\n",
        "        'classifier__kernel': ['linear', 'rbf', 'sigmoid'],\n",
        "    },\n",
        "    {\n",
        "        'classifier': [LogisticRegression()],\n",
        "        'classifier__C': [0.01, 0.1, 1.0],\n",
        "        'classifier__max_iter': [50, 100, 200],\n",
        "    }\n",
        "]\n",
        "\n",
        "scores = ['f1_micro', 'f1_macro', 'precision_micro', 'precision_macro', 'recall_micro', 'recall_macro']\n",
        "\n",
        "clf = GridSearchCV(BinaryRelevance(), parameters, scoring=scores, refit=False)\n",
        "clf.fit(X_train, y_train)\n",
        "# print (clf.best_params_, clf.best_score_)\n",
        "\n",
        "print(\"\\nAccuracy for each parameter set:\")\n",
        "for i in range(len(clf.cv_results_['params'])):\n",
        "    for scorer in scores:\n",
        "        mean_score = clf.cv_results_[f\"mean_test_{scorer}\"][i]\n",
        "        print(f\"Parameter set {i+1}: {clf.cv_results_['params'][i]} - Mean {scorer}: {mean_score}\\n\")"
      ]
    },
    {
      "cell_type": "code",
      "execution_count": null,
      "metadata": {
        "id": "JDgkwrHl4tOe"
      },
      "outputs": [],
      "source": [
        "# Print the best parameter depend on mean_test_f1_micro\n",
        "best_score_idx = clf.cv_results_['mean_test_f1_micro'].argmax()\n",
        "best_params = {k.replace('classifier__', ''): v for k, v in clf.cv_results_['params'][best_score_idx].items()}\n",
        "print(f\"Best parameters: {best_params} - Mean f1_micro: {clf.cv_results_['mean_test_f1_micro'][best_score_idx]}\")"
      ]
    },
    {
      "cell_type": "code",
      "execution_count": null,
      "metadata": {
        "id": "N3c9_oA153jx"
      },
      "outputs": [],
      "source": [
        "from sklearn.metrics import hamming_loss\n",
        "\n",
        "# best model selection\n",
        "best_model_idx = clf.cv_results_['mean_test_f1_micro'].argmax()\n",
        "best_params = {k.replace('classifier__', ''): v for k, v in clf.cv_results_['params'][best_model_idx].items()}\n",
        "\n",
        "# create the best model\n",
        "best_model = BinaryRelevance(best_params['classifier'])\n",
        "best_model.fit(X_train, y_train)\n",
        "\n",
        "# \"Prediction on the test set.\"\n",
        "y_pred = best_model.predict(X_test)\n",
        "\n",
        "# Calculate hamming_loss\n",
        "hamming_loss_value = hamming_loss(y_test, y_pred)\n",
        "print(\"Hamming Loss:\", hamming_loss_value)"
      ]
    },
    {
      "cell_type": "markdown",
      "metadata": {
        "id": "9M_TwrxqWSAx"
      },
      "source": [
        "Training model with LabelPowerset method"
      ]
    },
    {
      "cell_type": "code",
      "execution_count": null,
      "metadata": {
        "id": "di5BWoP_99dz"
      },
      "outputs": [],
      "source": [
        "clf = LabelPowerset(MultinomialNB())\n",
        "\n",
        "clf.fit(X_train, y_train)\n",
        "clf_prediction = clf.predict(X_test)\n",
        "\n",
        "# Evaluate the performance of the model on the test set\n",
        "accuracy_test = accuracy_score(y_test, clf_prediction)\n",
        "print(f\"Accuracy trên tập test: {accuracy_test}\")\n",
        "\n",
        "micro_f1 = f1_score(y_test, clf_prediction, average='micro')\n",
        "print(f\"Micro-average F1 score: {micro_f1}\")\n",
        "\n",
        "# Calculate macro-average F1 score\n",
        "macro_f1 = f1_score(y_test, clf_prediction, average='macro')\n",
        "print(f\"Macro-average F1 score: {macro_f1}\")"
      ]
    },
    {
      "cell_type": "code",
      "execution_count": null,
      "metadata": {
        "id": "L9whTGtmhQq7"
      },
      "outputs": [],
      "source": [
        "# Evaluate through cross-validation.\n",
        "pred = clf.fit(X_train, y_train)\n",
        "\n",
        "scorings = ['precision_macro', 'precision_micro', 'f1_macro', 'f1_micro', 'recall_macro', 'recall_micro']\n",
        "\n",
        "scores = cross_validate(pred, X_train, y_train, cv=5, scoring=scorings)\n",
        "\n",
        "for metric in scorings:\n",
        "    score_key = f'test_{metric}'\n",
        "    metric_scores = scores[score_key]\n",
        "    print(f\"{metric} scores: {metric_scores}\\n\")"
      ]
    },
    {
      "cell_type": "code",
      "execution_count": null,
      "metadata": {
        "id": "__67WSeGAOZr"
      },
      "outputs": [],
      "source": [
        "# Evaluate through loss function\n",
        "hamming_loss(y_test, clf_prediction)"
      ]
    },
    {
      "cell_type": "code",
      "execution_count": null,
      "metadata": {
        "id": "r0fof15ZGzR5"
      },
      "outputs": [],
      "source": [
        "from sklearn.model_selection import GridSearchCV\n",
        "from sklearn.ensemble import RandomForestClassifier\n",
        "\n",
        "# Find the best parameter\n",
        "parameters = [\n",
        "    {\n",
        "        'classifier': [MultinomialNB()],\n",
        "        'classifier__alpha': [0.7, 1.0, 1.3],\n",
        "    },\n",
        "    {\n",
        "        'classifier': [RandomForestClassifier()],\n",
        "        'classifier__criterion': ['gini', 'entropy'],\n",
        "        'classifier__n_estimators': [50, 100, 150],\n",
        "    },\n",
        "    {\n",
        "        'classifier': [KNeighborsClassifier()],\n",
        "        'classifier__n_neighbors': [2, 3, 5, 8, 9],\n",
        "        'classifier__weights': ['uniform', 'distance'],\n",
        "    },\n",
        "    {\n",
        "        'classifier': [SVC()],\n",
        "        'classifier__C': [0.01, 0.1, 1.0],\n",
        "        'classifier__kernel': ['linear', 'rbf', 'sigmoid'],\n",
        "    },\n",
        "    {\n",
        "        'classifier': [LogisticRegression()],\n",
        "        'classifier__C': [0.01, 0.1, 1.0],\n",
        "        'classifier__max_iter': [50, 100, 200],\n",
        "    }\n",
        "]\n",
        "\n",
        "scores = ['f1_micro', 'f1_macro', 'precision_micro', 'precision_macro', 'recall_micro', 'recall_macro']\n",
        "\n",
        "clf = GridSearchCV(LabelPowerset(), parameters, scoring=scores, refit=False)\n",
        "clf.fit(X_train, y_train)\n",
        "\n",
        "\n",
        "print(\"\\nAccuracy for each parameter set:\")\n",
        "for i in range(len(clf.cv_results_['params'])):\n",
        "    for scorer in scores:\n",
        "        mean_score = clf.cv_results_[f\"mean_test_{scorer}\"][i]\n",
        "        print(f\"Parameter set {i+1}: {clf.cv_results_['params'][i]} - Mean {scorer}: {mean_score}\\n\")"
      ]
    },
    {
      "cell_type": "code",
      "execution_count": null,
      "metadata": {
        "id": "U0g2FYCNLIv7"
      },
      "outputs": [],
      "source": [
        "# Print the best parameter\n",
        "best_score_idx = clf.cv_results_['mean_test_f1_micro'].argmax()\n",
        "best_params = {k.replace('classifier__', ''): v for k, v in clf.cv_results_['params'][best_score_idx].items()}\n",
        "print(f\"Best parameters: {best_params} - Mean f1_micro: {clf.cv_results_['mean_test_f1_micro'][best_score_idx]}\")"
      ]
    },
    {
      "cell_type": "code",
      "execution_count": null,
      "metadata": {
        "id": "RkRIWT6IM2sK"
      },
      "outputs": [],
      "source": [
        "# best model selection\n",
        "best_model_idx = clf.cv_results_['mean_test_f1_micro'].argmax()\n",
        "best_params = {k.replace('classifier__', ''): v for k, v in clf.cv_results_['params'][best_model_idx].items()}\n",
        "\n",
        "# create the best model\n",
        "best_model = LabelPowerset(best_params['classifier'])\n",
        "best_model.fit(X_train, y_train)\n",
        "\n",
        "# Prediction on test set\n",
        "y_pred = best_model.predict(X_test)\n",
        "\n",
        "# Calculate hamming_loss\n",
        "hamming_loss_value = hamming_loss(y_test, y_pred)\n",
        "print(\"Hamming Loss:\", hamming_loss_value)"
      ]
    },
    {
      "cell_type": "markdown",
      "metadata": {
        "id": "xPFGh236RLk_"
      },
      "source": [
        "Training model with Classifier Chains method\n"
      ]
    },
    {
      "cell_type": "code",
      "execution_count": null,
      "metadata": {
        "id": "nEgbmfKqPrUJ"
      },
      "outputs": [],
      "source": [
        "cc = ClassifierChain(MultinomialNB())\n",
        "cc.fit(X_train, y_train)\n",
        "\n",
        "cc_predictions = cc.predict(X_test)\n",
        "\n",
        "# Check For Accuracy\n",
        "accuracy_test = accuracy_score(y_test, cc_predictions)\n",
        "print(f\"Accuracy trên tập test: {accuracy_test}\")\n",
        "\n",
        "micro_precison = precision_score(y_test, cc_predictions, average='micro')\n",
        "print(f\"Micro-average Precision score: {micro_precison}\")\n",
        "\n",
        "# Calculate macro-average F1 score\n",
        "macro_precison = precision_score(y_test, cc_predictions, average='macro')\n",
        "print(f\"Macro-average Precision score: {macro_precison}\")"
      ]
    },
    {
      "cell_type": "code",
      "execution_count": null,
      "metadata": {
        "id": "rNM3Ig5Dw3bx"
      },
      "outputs": [],
      "source": [
        "pred = cc.fit(X_train, y_train)\n",
        "\n",
        "scorings = ['precision_macro', 'precision_micro', 'f1_macro', 'f1_micro', 'recall_macro', 'recall_micro']\n",
        "\n",
        "scores = cross_validate(pred, X_train, y_train, cv=5, scoring=scorings)\n",
        "\n",
        "for metric in scorings:\n",
        "    score_key = f'test_{metric}'\n",
        "    metric_scores = scores[score_key]\n",
        "    print(f\"{metric} scores: {metric_scores}\\n\")"
      ]
    },
    {
      "cell_type": "code",
      "execution_count": null,
      "metadata": {
        "id": "zUJUL-xiVeUj"
      },
      "outputs": [],
      "source": [
        "hamming_loss(y_test, cc_predictions)"
      ]
    },
    {
      "cell_type": "code",
      "execution_count": null,
      "metadata": {
        "id": "JIPKHi8hsu2n"
      },
      "outputs": [],
      "source": [
        "from sklearn.metrics import confusion_matrix\n",
        "import seaborn as sns\n",
        "from sklearn.metrics import multilabel_confusion_matrix\n",
        "import numpy as np"
      ]
    },
    {
      "cell_type": "code",
      "execution_count": null,
      "metadata": {
        "id": "K4C5mbR1uEod"
      },
      "outputs": [],
      "source": [
        "labels = ['vận chuyển', 'giá', 'đóng gói', 'dịch vụ', 'mùi hương', 'kết cấu', 'độ bền', 'màu sắc']\n",
        "print(classification_report(y_test, cc_predictions, target_names=labels))"
      ]
    },
    {
      "cell_type": "code",
      "execution_count": null,
      "metadata": {
        "id": "Dec7MOOEwViA"
      },
      "outputs": [],
      "source": [
        "from sklearn.model_selection import GridSearchCV\n",
        "from sklearn.ensemble import RandomForestClassifier\n",
        "\n",
        "parameters = [\n",
        "    {\n",
        "        'classifier': [MultinomialNB()],\n",
        "        'classifier__alpha': [0.7, 1.0, 1.3],\n",
        "    },\n",
        "    {\n",
        "        'classifier': [RandomForestClassifier()],\n",
        "        'classifier__criterion': ['gini', 'entropy'],\n",
        "        'classifier__n_estimators': [50, 100, 150],\n",
        "    },\n",
        "    {\n",
        "        'classifier': [KNeighborsClassifier()],\n",
        "        'classifier__n_neighbors': [2, 3, 5, 8, 9],\n",
        "        'classifier__weights': ['uniform', 'distance'],\n",
        "    },\n",
        "    {\n",
        "        'classifier': [SVC()],\n",
        "        'classifier__C': [0.01, 0.1, 1.0],\n",
        "        'classifier__kernel': ['linear', 'rbf', 'sigmoid'],\n",
        "    },\n",
        "    {\n",
        "        'classifier': [LogisticRegression()],\n",
        "        'classifier__C': [0.01, 0.1, 1.0],\n",
        "        'classifier__max_iter': [50, 100, 200],\n",
        "    }\n",
        "]\n",
        "\n",
        "scores = ['f1_micro', 'f1_macro', 'precision_micro', 'precision_macro', 'recall_micro', 'recall_macro']\n",
        "\n",
        "clf = GridSearchCV(ClassifierChain(), parameters, scoring=scores, refit=False)\n",
        "clf.fit(X_train, y_train)\n",
        "# print (clf.best_params_, clf.best_score_)\n",
        "\n",
        "print(\"\\nAccuracy for each parameter set:\")\n",
        "for i in range(len(clf.cv_results_['params'])):\n",
        "    for scorer in scores:\n",
        "        mean_score = clf.cv_results_[f\"mean_test_{scorer}\"][i]\n",
        "        print(f\"Parameter set {i+1}: {clf.cv_results_['params'][i]} - Mean {scorer}: {mean_score}\\n\")"
      ]
    },
    {
      "cell_type": "code",
      "execution_count": null,
      "metadata": {
        "id": "prtNxa5-NR6E"
      },
      "outputs": [],
      "source": [
        "best_score_idx = clf.cv_results_['mean_test_f1_micro'].argmax()\n",
        "best_params = {k.replace('classifier__', ''): v for k, v in clf.cv_results_['params'][best_score_idx].items()}\n",
        "print(f\"Best parameters: {best_params} - Mean f1_micro: {clf.cv_results_['mean_test_f1_micro'][best_score_idx]}\")"
      ]
    },
    {
      "cell_type": "code",
      "execution_count": null,
      "metadata": {
        "id": "k8k7uV9bNSC1"
      },
      "outputs": [],
      "source": [
        "# best model selection\n",
        "best_model_idx = clf.cv_results_['mean_test_f1_micro'].argmax()\n",
        "best_params = {k.replace('classifier__', ''): v for k, v in clf.cv_results_['params'][best_model_idx].items()}\n",
        "\n",
        "# ceate the best model\n",
        "best_model = ClassifierChain(best_params['classifier'])\n",
        "best_model.fit(X_train, y_train)\n",
        "\n",
        "# Prediction on the test set\n",
        "y_pred = best_model.predict(X_test)\n",
        "\n",
        "# Calculate hamming_loss\n",
        "hamming_loss_value = hamming_loss(y_test, y_pred)\n",
        "print(\"Hamming Loss:\", hamming_loss_value)"
      ]
    }
  ],
  "metadata": {
    "colab": {
      "provenance": []
    },
    "kernelspec": {
      "display_name": "Python 3",
      "name": "python3"
    },
    "language_info": {
      "name": "python"
    }
  },
  "nbformat": 4,
  "nbformat_minor": 0
}
